{
  "nbformat": 4,
  "nbformat_minor": 0,
  "metadata": {
    "colab": {
      "name": "Recommendation_ContentBasedFiltering.ipynb",
      "provenance": [],
      "collapsed_sections": []
    },
    "kernelspec": {
      "name": "python3",
      "display_name": "Python 3"
    }
  },
  "cells": [
    {
      "cell_type": "code",
      "metadata": {
        "id": "tZdh86t129YV"
      },
      "source": [
        "import numpy as np\r\n",
        "import scipy as sp\r\n",
        "import pandas as pd\r\n",
        "from sklearn.feature_extraction.text import TfidfVectorizer, CountVectorizer\r\n",
        "from sklearn.neighbors import NearestNeighbors\r\n",
        "from sklearn.cluster import KMeans\r\n",
        "from sklearn.cluster import DBSCAN\r\n",
        "from sklearn.metrics import adjusted_rand_score\r\n",
        "import matplotlib.pyplot as plt"
      ],
      "execution_count": 2,
      "outputs": []
    },
    {
      "cell_type": "code",
      "metadata": {
        "id": "8IBLK6vx3MCP"
      },
      "source": [
        "#dataset = 'https://raw.githubusercontent.com/vaishnavipatil555/RecommenderSystem/main/reviews_Musical_Instruments.csv'\r\n",
        "metadata = 'https://raw.githubusercontent.com/vaishnavipatil555/RecommenderSystem/main/meta_Musical_Instruments.csv'"
      ],
      "execution_count": 3,
      "outputs": []
    },
    {
      "cell_type": "code",
      "metadata": {
        "id": "YZlF3fhI3TXz"
      },
      "source": [
        "#df = pd.read_csv(dataset)\r\n",
        "meta_df = pd.read_csv(metadata)"
      ],
      "execution_count": 4,
      "outputs": []
    },
    {
      "cell_type": "code",
      "metadata": {
        "id": "YlMP81E43Zkk"
      },
      "source": [
        "#df = df.merge(meta_df, on='asin')"
      ],
      "execution_count": 4,
      "outputs": []
    },
    {
      "cell_type": "code",
      "metadata": {
        "colab": {
          "base_uri": "https://localhost:8080/",
          "height": 192
        },
        "id": "kdYdk5-tOImY",
        "outputId": "5f73383b-5016-4c93-e460-a6c94088c67c"
      },
      "source": [
        "# print(df.shape)\r\n",
        "# df.drop_duplicates(subset=['reviewerID', 'asin','unixReviewTime'],inplace=True)"
      ],
      "execution_count": 5,
      "outputs": [
        {
          "output_type": "error",
          "ename": "NameError",
          "evalue": "ignored",
          "traceback": [
            "\u001b[0;31m---------------------------------------------------------------------------\u001b[0m",
            "\u001b[0;31mNameError\u001b[0m                                 Traceback (most recent call last)",
            "\u001b[0;32m<ipython-input-5-38357d6dc3b1>\u001b[0m in \u001b[0;36m<module>\u001b[0;34m()\u001b[0m\n\u001b[0;32m----> 1\u001b[0;31m \u001b[0mprint\u001b[0m\u001b[0;34m(\u001b[0m\u001b[0mdf\u001b[0m\u001b[0;34m.\u001b[0m\u001b[0mshape\u001b[0m\u001b[0;34m)\u001b[0m\u001b[0;34m\u001b[0m\u001b[0;34m\u001b[0m\u001b[0m\n\u001b[0m\u001b[1;32m      2\u001b[0m \u001b[0mdf\u001b[0m\u001b[0;34m.\u001b[0m\u001b[0mdrop_duplicates\u001b[0m\u001b[0;34m(\u001b[0m\u001b[0msubset\u001b[0m\u001b[0;34m=\u001b[0m\u001b[0;34m[\u001b[0m\u001b[0;34m'reviewerID'\u001b[0m\u001b[0;34m,\u001b[0m \u001b[0;34m'asin'\u001b[0m\u001b[0;34m,\u001b[0m\u001b[0;34m'unixReviewTime'\u001b[0m\u001b[0;34m]\u001b[0m\u001b[0;34m,\u001b[0m\u001b[0minplace\u001b[0m\u001b[0;34m=\u001b[0m\u001b[0;32mTrue\u001b[0m\u001b[0;34m)\u001b[0m\u001b[0;34m\u001b[0m\u001b[0;34m\u001b[0m\u001b[0m\n",
            "\u001b[0;31mNameError\u001b[0m: name 'df' is not defined"
          ]
        }
      ]
    },
    {
      "cell_type": "code",
      "metadata": {
        "colab": {
          "base_uri": "https://localhost:8080/"
        },
        "id": "LJ1F3yDYOePt",
        "outputId": "c587e22f-2b08-4506-e169-4491ed944d42"
      },
      "source": [
        "meta_df.shape"
      ],
      "execution_count": 6,
      "outputs": [
        {
          "output_type": "execute_result",
          "data": {
            "text/plain": [
              "(10261, 9)"
            ]
          },
          "metadata": {
            "tags": []
          },
          "execution_count": 6
        }
      ]
    },
    {
      "cell_type": "code",
      "metadata": {
        "id": "zlolVNPw3xms"
      },
      "source": [
        "meta_df.rename(columns={'asin':'productID'}, inplace=True)"
      ],
      "execution_count": 7,
      "outputs": []
    },
    {
      "cell_type": "code",
      "metadata": {
        "colab": {
          "base_uri": "https://localhost:8080/",
          "height": 771
        },
        "id": "8SoRM_aWinu4",
        "outputId": "9d923e21-6ee5-47b6-9cb8-94e95e2214bc"
      },
      "source": [
        "meta_df"
      ],
      "execution_count": 8,
      "outputs": [
        {
          "output_type": "execute_result",
          "data": {
            "text/html": [
              "<div>\n",
              "<style scoped>\n",
              "    .dataframe tbody tr th:only-of-type {\n",
              "        vertical-align: middle;\n",
              "    }\n",
              "\n",
              "    .dataframe tbody tr th {\n",
              "        vertical-align: top;\n",
              "    }\n",
              "\n",
              "    .dataframe thead th {\n",
              "        text-align: right;\n",
              "    }\n",
              "</style>\n",
              "<table border=\"1\" class=\"dataframe\">\n",
              "  <thead>\n",
              "    <tr style=\"text-align: right;\">\n",
              "      <th></th>\n",
              "      <th>productID</th>\n",
              "      <th>title</th>\n",
              "      <th>price</th>\n",
              "      <th>imUrl</th>\n",
              "      <th>salesRank</th>\n",
              "      <th>categories</th>\n",
              "      <th>related</th>\n",
              "      <th>brand</th>\n",
              "      <th>description</th>\n",
              "    </tr>\n",
              "  </thead>\n",
              "  <tbody>\n",
              "    <tr>\n",
              "      <th>0</th>\n",
              "      <td>1384719342</td>\n",
              "      <td>niceEshop Studio Microphone Mic Wind Screen Po...</td>\n",
              "      <td>7.09</td>\n",
              "      <td>http://ecx.images-amazon.com/images/I/510D2cVp...</td>\n",
              "      <td>{'Musical Instruments': 2880}</td>\n",
              "      <td>[['Musical Instruments', 'Microphones &amp; Access...</td>\n",
              "      <td>{'also_bought': ['B009D015TI', 'B004QJREXM', '...</td>\n",
              "      <td>niceEshop</td>\n",
              "      <td>New generic Studio Microphone Mic Wind Screen ...</td>\n",
              "    </tr>\n",
              "    <tr>\n",
              "      <th>1</th>\n",
              "      <td>1384719342</td>\n",
              "      <td>niceEshop Studio Microphone Mic Wind Screen Po...</td>\n",
              "      <td>7.09</td>\n",
              "      <td>http://ecx.images-amazon.com/images/I/510D2cVp...</td>\n",
              "      <td>{'Musical Instruments': 2880}</td>\n",
              "      <td>[['Musical Instruments', 'Microphones &amp; Access...</td>\n",
              "      <td>{'also_bought': ['B009D015TI', 'B004QJREXM', '...</td>\n",
              "      <td>niceEshop</td>\n",
              "      <td>New generic Studio Microphone Mic Wind Screen ...</td>\n",
              "    </tr>\n",
              "    <tr>\n",
              "      <th>2</th>\n",
              "      <td>1384719342</td>\n",
              "      <td>niceEshop Studio Microphone Mic Wind Screen Po...</td>\n",
              "      <td>7.09</td>\n",
              "      <td>http://ecx.images-amazon.com/images/I/510D2cVp...</td>\n",
              "      <td>{'Musical Instruments': 2880}</td>\n",
              "      <td>[['Musical Instruments', 'Microphones &amp; Access...</td>\n",
              "      <td>{'also_bought': ['B009D015TI', 'B004QJREXM', '...</td>\n",
              "      <td>niceEshop</td>\n",
              "      <td>New generic Studio Microphone Mic Wind Screen ...</td>\n",
              "    </tr>\n",
              "    <tr>\n",
              "      <th>3</th>\n",
              "      <td>1384719342</td>\n",
              "      <td>niceEshop Studio Microphone Mic Wind Screen Po...</td>\n",
              "      <td>7.09</td>\n",
              "      <td>http://ecx.images-amazon.com/images/I/510D2cVp...</td>\n",
              "      <td>{'Musical Instruments': 2880}</td>\n",
              "      <td>[['Musical Instruments', 'Microphones &amp; Access...</td>\n",
              "      <td>{'also_bought': ['B009D015TI', 'B004QJREXM', '...</td>\n",
              "      <td>niceEshop</td>\n",
              "      <td>New generic Studio Microphone Mic Wind Screen ...</td>\n",
              "    </tr>\n",
              "    <tr>\n",
              "      <th>4</th>\n",
              "      <td>1384719342</td>\n",
              "      <td>niceEshop Studio Microphone Mic Wind Screen Po...</td>\n",
              "      <td>7.09</td>\n",
              "      <td>http://ecx.images-amazon.com/images/I/510D2cVp...</td>\n",
              "      <td>{'Musical Instruments': 2880}</td>\n",
              "      <td>[['Musical Instruments', 'Microphones &amp; Access...</td>\n",
              "      <td>{'also_bought': ['B009D015TI', 'B004QJREXM', '...</td>\n",
              "      <td>niceEshop</td>\n",
              "      <td>New generic Studio Microphone Mic Wind Screen ...</td>\n",
              "    </tr>\n",
              "    <tr>\n",
              "      <th>...</th>\n",
              "      <td>...</td>\n",
              "      <td>...</td>\n",
              "      <td>...</td>\n",
              "      <td>...</td>\n",
              "      <td>...</td>\n",
              "      <td>...</td>\n",
              "      <td>...</td>\n",
              "      <td>...</td>\n",
              "      <td>...</td>\n",
              "    </tr>\n",
              "    <tr>\n",
              "      <th>10256</th>\n",
              "      <td>B00JBIVXGC</td>\n",
              "      <td>Elixir Strings 16182 Acoustic Phosphor Bronze ...</td>\n",
              "      <td>15.99</td>\n",
              "      <td>http://ecx.images-amazon.com/images/I/51yMv5i7...</td>\n",
              "      <td>{'Musical Instruments': 628}</td>\n",
              "      <td>[['Musical Instruments', 'Instrument Accessori...</td>\n",
              "      <td>{'also_bought': ['B00J4TBMVO', 'B000A6ASSS', '...</td>\n",
              "      <td>Elixir Strings</td>\n",
              "      <td>Elixir Acoustic HD Light Phosphor Bronze Strin...</td>\n",
              "    </tr>\n",
              "    <tr>\n",
              "      <th>10257</th>\n",
              "      <td>B00JBIVXGC</td>\n",
              "      <td>Elixir Strings 16182 Acoustic Phosphor Bronze ...</td>\n",
              "      <td>15.99</td>\n",
              "      <td>http://ecx.images-amazon.com/images/I/51yMv5i7...</td>\n",
              "      <td>{'Musical Instruments': 628}</td>\n",
              "      <td>[['Musical Instruments', 'Instrument Accessori...</td>\n",
              "      <td>{'also_bought': ['B00J4TBMVO', 'B000A6ASSS', '...</td>\n",
              "      <td>Elixir Strings</td>\n",
              "      <td>Elixir Acoustic HD Light Phosphor Bronze Strin...</td>\n",
              "    </tr>\n",
              "    <tr>\n",
              "      <th>10258</th>\n",
              "      <td>B00JBIVXGC</td>\n",
              "      <td>Elixir Strings 16182 Acoustic Phosphor Bronze ...</td>\n",
              "      <td>15.99</td>\n",
              "      <td>http://ecx.images-amazon.com/images/I/51yMv5i7...</td>\n",
              "      <td>{'Musical Instruments': 628}</td>\n",
              "      <td>[['Musical Instruments', 'Instrument Accessori...</td>\n",
              "      <td>{'also_bought': ['B00J4TBMVO', 'B000A6ASSS', '...</td>\n",
              "      <td>Elixir Strings</td>\n",
              "      <td>Elixir Acoustic HD Light Phosphor Bronze Strin...</td>\n",
              "    </tr>\n",
              "    <tr>\n",
              "      <th>10259</th>\n",
              "      <td>B00JBIVXGC</td>\n",
              "      <td>Elixir Strings 16182 Acoustic Phosphor Bronze ...</td>\n",
              "      <td>15.99</td>\n",
              "      <td>http://ecx.images-amazon.com/images/I/51yMv5i7...</td>\n",
              "      <td>{'Musical Instruments': 628}</td>\n",
              "      <td>[['Musical Instruments', 'Instrument Accessori...</td>\n",
              "      <td>{'also_bought': ['B00J4TBMVO', 'B000A6ASSS', '...</td>\n",
              "      <td>Elixir Strings</td>\n",
              "      <td>Elixir Acoustic HD Light Phosphor Bronze Strin...</td>\n",
              "    </tr>\n",
              "    <tr>\n",
              "      <th>10260</th>\n",
              "      <td>B00JBIVXGC</td>\n",
              "      <td>Elixir Strings 16182 Acoustic Phosphor Bronze ...</td>\n",
              "      <td>15.99</td>\n",
              "      <td>http://ecx.images-amazon.com/images/I/51yMv5i7...</td>\n",
              "      <td>{'Musical Instruments': 628}</td>\n",
              "      <td>[['Musical Instruments', 'Instrument Accessori...</td>\n",
              "      <td>{'also_bought': ['B00J4TBMVO', 'B000A6ASSS', '...</td>\n",
              "      <td>Elixir Strings</td>\n",
              "      <td>Elixir Acoustic HD Light Phosphor Bronze Strin...</td>\n",
              "    </tr>\n",
              "  </tbody>\n",
              "</table>\n",
              "<p>10261 rows × 9 columns</p>\n",
              "</div>"
            ],
            "text/plain": [
              "        productID  ...                                        description\n",
              "0      1384719342  ...  New generic Studio Microphone Mic Wind Screen ...\n",
              "1      1384719342  ...  New generic Studio Microphone Mic Wind Screen ...\n",
              "2      1384719342  ...  New generic Studio Microphone Mic Wind Screen ...\n",
              "3      1384719342  ...  New generic Studio Microphone Mic Wind Screen ...\n",
              "4      1384719342  ...  New generic Studio Microphone Mic Wind Screen ...\n",
              "...           ...  ...                                                ...\n",
              "10256  B00JBIVXGC  ...  Elixir Acoustic HD Light Phosphor Bronze Strin...\n",
              "10257  B00JBIVXGC  ...  Elixir Acoustic HD Light Phosphor Bronze Strin...\n",
              "10258  B00JBIVXGC  ...  Elixir Acoustic HD Light Phosphor Bronze Strin...\n",
              "10259  B00JBIVXGC  ...  Elixir Acoustic HD Light Phosphor Bronze Strin...\n",
              "10260  B00JBIVXGC  ...  Elixir Acoustic HD Light Phosphor Bronze Strin...\n",
              "\n",
              "[10261 rows x 9 columns]"
            ]
          },
          "metadata": {
            "tags": []
          },
          "execution_count": 8
        }
      ]
    },
    {
      "cell_type": "code",
      "metadata": {
        "id": "JdgX5npO4KI3"
      },
      "source": [
        "selected_columns = meta_df[[\"productID\", \"title\",\"description\"]]\r\n",
        "product_descriptions = selected_columns.copy()"
      ],
      "execution_count": 9,
      "outputs": []
    },
    {
      "cell_type": "code",
      "metadata": {
        "colab": {
          "base_uri": "https://localhost:8080/",
          "height": 206
        },
        "id": "08ycPwoE3Vjj",
        "outputId": "087cc787-fb54-432d-dd9a-c74b30373279"
      },
      "source": [
        "product_descriptions = product_descriptions.dropna()\r\n",
        "product_descriptions.head()"
      ],
      "execution_count": 10,
      "outputs": [
        {
          "output_type": "execute_result",
          "data": {
            "text/html": [
              "<div>\n",
              "<style scoped>\n",
              "    .dataframe tbody tr th:only-of-type {\n",
              "        vertical-align: middle;\n",
              "    }\n",
              "\n",
              "    .dataframe tbody tr th {\n",
              "        vertical-align: top;\n",
              "    }\n",
              "\n",
              "    .dataframe thead th {\n",
              "        text-align: right;\n",
              "    }\n",
              "</style>\n",
              "<table border=\"1\" class=\"dataframe\">\n",
              "  <thead>\n",
              "    <tr style=\"text-align: right;\">\n",
              "      <th></th>\n",
              "      <th>productID</th>\n",
              "      <th>title</th>\n",
              "      <th>description</th>\n",
              "    </tr>\n",
              "  </thead>\n",
              "  <tbody>\n",
              "    <tr>\n",
              "      <th>0</th>\n",
              "      <td>1384719342</td>\n",
              "      <td>niceEshop Studio Microphone Mic Wind Screen Po...</td>\n",
              "      <td>New generic Studio Microphone Mic Wind Screen ...</td>\n",
              "    </tr>\n",
              "    <tr>\n",
              "      <th>1</th>\n",
              "      <td>1384719342</td>\n",
              "      <td>niceEshop Studio Microphone Mic Wind Screen Po...</td>\n",
              "      <td>New generic Studio Microphone Mic Wind Screen ...</td>\n",
              "    </tr>\n",
              "    <tr>\n",
              "      <th>2</th>\n",
              "      <td>1384719342</td>\n",
              "      <td>niceEshop Studio Microphone Mic Wind Screen Po...</td>\n",
              "      <td>New generic Studio Microphone Mic Wind Screen ...</td>\n",
              "    </tr>\n",
              "    <tr>\n",
              "      <th>3</th>\n",
              "      <td>1384719342</td>\n",
              "      <td>niceEshop Studio Microphone Mic Wind Screen Po...</td>\n",
              "      <td>New generic Studio Microphone Mic Wind Screen ...</td>\n",
              "    </tr>\n",
              "    <tr>\n",
              "      <th>4</th>\n",
              "      <td>1384719342</td>\n",
              "      <td>niceEshop Studio Microphone Mic Wind Screen Po...</td>\n",
              "      <td>New generic Studio Microphone Mic Wind Screen ...</td>\n",
              "    </tr>\n",
              "  </tbody>\n",
              "</table>\n",
              "</div>"
            ],
            "text/plain": [
              "    productID  ...                                        description\n",
              "0  1384719342  ...  New generic Studio Microphone Mic Wind Screen ...\n",
              "1  1384719342  ...  New generic Studio Microphone Mic Wind Screen ...\n",
              "2  1384719342  ...  New generic Studio Microphone Mic Wind Screen ...\n",
              "3  1384719342  ...  New generic Studio Microphone Mic Wind Screen ...\n",
              "4  1384719342  ...  New generic Studio Microphone Mic Wind Screen ...\n",
              "\n",
              "[5 rows x 3 columns]"
            ]
          },
          "metadata": {
            "tags": []
          },
          "execution_count": 10
        }
      ]
    },
    {
      "cell_type": "code",
      "metadata": {
        "colab": {
          "base_uri": "https://localhost:8080/"
        },
        "id": "sQj_jpRu3i_M",
        "outputId": "dbdee02a-7400-4e7b-b72d-44038735da38"
      },
      "source": [
        "product_descriptions.shape"
      ],
      "execution_count": 11,
      "outputs": [
        {
          "output_type": "execute_result",
          "data": {
            "text/plain": [
              "(7402, 3)"
            ]
          },
          "metadata": {
            "tags": []
          },
          "execution_count": 11
        }
      ]
    },
    {
      "cell_type": "code",
      "metadata": {
        "colab": {
          "base_uri": "https://localhost:8080/"
        },
        "id": "cSVKT3VL5klG",
        "outputId": "77dceddb-e653-44d6-d0e3-e3cfee667b60"
      },
      "source": [
        "product_descriptions1 = product_descriptions.head(500)\r\n",
        "# product_descriptions1.iloc[:,1]\r\n",
        "\r\n",
        "product_descriptions1[\"description\"].head(10)"
      ],
      "execution_count": 12,
      "outputs": [
        {
          "output_type": "execute_result",
          "data": {
            "text/plain": [
              "0     New generic Studio Microphone Mic Wind Screen ...\n",
              "1     New generic Studio Microphone Mic Wind Screen ...\n",
              "2     New generic Studio Microphone Mic Wind Screen ...\n",
              "3     New generic Studio Microphone Mic Wind Screen ...\n",
              "4     New generic Studio Microphone Mic Wind Screen ...\n",
              "11    This handy sustain pedal/FS controller hooks u...\n",
              "12    This handy sustain pedal/FS controller hooks u...\n",
              "13    This handy sustain pedal/FS controller hooks u...\n",
              "14    This handy sustain pedal/FS controller hooks u...\n",
              "15    This handy sustain pedal/FS controller hooks u...\n",
              "Name: description, dtype: object"
            ]
          },
          "metadata": {
            "tags": []
          },
          "execution_count": 12
        }
      ]
    },
    {
      "cell_type": "code",
      "metadata": {
        "colab": {
          "base_uri": "https://localhost:8080/"
        },
        "id": "kfDOkljK3lZg",
        "outputId": "17bc11df-a5a5-48cc-e103-83908458a344"
      },
      "source": [
        "vectorizer = TfidfVectorizer(stop_words='english')\r\n",
        "X1 = vectorizer.fit_transform(product_descriptions1[\"description\"])\r\n",
        "X1"
      ],
      "execution_count": 13,
      "outputs": [
        {
          "output_type": "execute_result",
          "data": {
            "text/plain": [
              "<500x956 sparse matrix of type '<class 'numpy.float64'>'\n",
              "\twith 16437 stored elements in Compressed Sparse Row format>"
            ]
          },
          "metadata": {
            "tags": []
          },
          "execution_count": 13
        }
      ]
    },
    {
      "cell_type": "markdown",
      "metadata": {
        "id": "ytD7fC8WPjAB"
      },
      "source": [
        "# KMeans Clustering"
      ]
    },
    {
      "cell_type": "code",
      "metadata": {
        "colab": {
          "base_uri": "https://localhost:8080/",
          "height": 265
        },
        "id": "njUiDz9E53H3",
        "outputId": "af08c4cd-4522-44b5-86b2-e4fc0ca72429"
      },
      "source": [
        "X=X1\r\n",
        "\r\n",
        "kmeans = KMeans(n_clusters = 10, init = 'k-means++')\r\n",
        "y_kmeans = kmeans.fit_predict(X)\r\n",
        "plt.plot(y_kmeans, \".\")\r\n",
        "plt.show()"
      ],
      "execution_count": 32,
      "outputs": [
        {
          "output_type": "display_data",
          "data": {
            "image/png": "[encoded data removed]",
            "text/plain": [
              "<Figure size 432x288 with 1 Axes>"
            ]
          },
          "metadata": {
            "tags": [],
            "needs_background": "light"
          }
        }
      ]
    },
    {
      "cell_type": "code",
      "metadata": {
        "id": "JU8mGjbm59Do"
      },
      "source": [
        "def print_cluster(i):\r\n",
        "    print(\"Cluster %d:\" % i),\r\n",
        "    for ind in order_centroids[i, :10]:\r\n",
        "        print(' %s' % terms[ind]),\r\n",
        "    print"
      ],
      "execution_count": 33,
      "outputs": []
    },
    {
      "cell_type": "code",
      "metadata": {
        "colab": {
          "base_uri": "https://localhost:8080/"
        },
        "id": "7TN6xr0H6TAz",
        "outputId": "0f31189a-bf56-4033-b78e-311708f0302e"
      },
      "source": [
        "# # Optimal clusters is \r\n",
        "\r\n",
        "true_k = 10\r\n",
        "\r\n",
        "model = KMeans(n_clusters=true_k, init='k-means++', max_iter=100, n_init=1)\r\n",
        "model.fit(X1)\r\n",
        "\r\n",
        "print(\"Top terms per cluster:\")\r\n",
        "order_centroids = model.cluster_centers_.argsort()[:, ::-1]\r\n",
        "terms = vectorizer.get_feature_names()\r\n",
        "for i in range(true_k):\r\n",
        "    print_cluster(i)"
      ],
      "execution_count": 34,
      "outputs": [
        {
          "output_type": "stream",
          "text": [
            "Top terms per cluster:\n",
            "Cluster 0:\n",
            " strings\n",
            " martin\n",
            " acoustic\n",
            " guitar\n",
            " bronze\n",
            " hardshell\n",
            " alloy\n",
            " case\n",
            " les\n",
            " paul\n",
            "Cluster 1:\n",
            " tortex\n",
            " picks\n",
            " dunlop\n",
            " pick\n",
            " gamespot\n",
            " carefully\n",
            " review\n",
            " 50\n",
            " musicians\n",
            " characteristic\n",
            "Cluster 2:\n",
            " string\n",
            " gold\n",
            " kyser\n",
            " capo\n",
            " 12\n",
            " black\n",
            " finishes\n",
            " firmly\n",
            " finished\n",
            " feedback\n",
            "Cluster 3:\n",
            " quick\n",
            " change\n",
            " capo\n",
            " hand\n",
            " kyser\n",
            " guitar\n",
            " doesn\n",
            " tensioned\n",
            " strong\n",
            " clamps\n",
            "Cluster 4:\n",
            " distortion\n",
            " ve\n",
            " overdrive\n",
            " ds\n",
            " rock\n",
            " pedal\n",
            " boss\n",
            " guitarists\n",
            " tone\n",
            " knobs\n",
            "Cluster 5:\n",
            " 10\n",
            " cables\n",
            " solidbody\n",
            " gigbag\n",
            " electric\n",
            " waves\n",
            " paul\n",
            " les\n",
            " epiphone\n",
            " hard\n",
            "Cluster 6:\n",
            " crybaby\n",
            " wah\n",
            " original\n",
            " pedal\n",
            " powering\n",
            " hot\n",
            " potz\n",
            " boost\n",
            " volt\n",
            " optional\n",
            "Cluster 7:\n",
            " xlr\n",
            " cable\n",
            " microphone\n",
            " braided\n",
            " male\n",
            " female\n",
            " 15ft\n",
            " pattern\n",
            " response\n",
            " cables\n",
            "Cluster 8:\n",
            " input\n",
            " phone\n",
            " xlr3m\n",
            " balanced\n",
            " adapt\n",
            " adaptor\n",
            " psr\n",
            " insert\n",
            " designed\n",
            " audio\n",
            "Cluster 9:\n",
            " banjo\n",
            " blk\n",
            " mand\n",
            " capo\n",
            " kyser\n",
            " zero\n",
            " finish\n",
            " fender\n",
            " filter\n",
            " fingering\n"
          ],
          "name": "stdout"
        }
      ]
    },
    {
      "cell_type": "code",
      "metadata": {
        "id": "hCcOiP626ZWr"
      },
      "source": [
        "def show_recommendations(product):\r\n",
        "    #print(\"Cluster ID:\")\r\n",
        "    Y = vectorizer.transform([product])\r\n",
        "    prediction = model.predict(Y)\r\n",
        "    #print(prediction)\r\n",
        "    print_cluster(prediction[0])"
      ],
      "execution_count": 31,
      "outputs": []
    },
    {
      "cell_type": "code",
      "metadata": {
        "colab": {
          "base_uri": "https://localhost:8080/"
        },
        "id": "C95YnDPK6fg5",
        "outputId": "853c4ecc-93ed-43b4-e3e0-df52648501bc"
      },
      "source": [
        "show_recommendations(\"microphone\")"
      ],
      "execution_count": 33,
      "outputs": [
        {
          "output_type": "stream",
          "text": [
            "Cluster 8:\n",
            " xlr\n",
            " microphone\n",
            " 15ft\n",
            " male\n",
            " female\n",
            " cable\n",
            " mini\n",
            " audio\n",
            " high\n",
            " mic\n"
          ],
          "name": "stdout"
        }
      ]
    },
    {
      "cell_type": "code",
      "metadata": {
        "colab": {
          "base_uri": "https://localhost:8080/"
        },
        "id": "z63xBc8I66Li",
        "outputId": "a3f79f47-7bfe-4051-f775-0aa3a88eaac0"
      },
      "source": [
        "show_recommendations(\"guitar\")"
      ],
      "execution_count": 34,
      "outputs": [
        {
          "output_type": "stream",
          "text": [
            "Cluster 7:\n",
            " overdrive\n",
            " amp\n",
            " boss\n",
            " effects\n",
            " distortion\n",
            " overdriven\n",
            " pedal\n",
            " classic\n",
            " super\n",
            " attack\n"
          ],
          "name": "stdout"
        }
      ]
    },
    {
      "cell_type": "code",
      "metadata": {
        "colab": {
          "base_uri": "https://localhost:8080/"
        },
        "id": "aE-1XEfE7Am8",
        "outputId": "c385d48a-c883-4d60-c02f-257e2c5b5fea"
      },
      "source": [
        "show_recommendations(\"tabla\")"
      ],
      "execution_count": 35,
      "outputs": [
        {
          "output_type": "stream",
          "text": [
            "Cluster 7:\n",
            " overdrive\n",
            " amp\n",
            " boss\n",
            " effects\n",
            " distortion\n",
            " overdriven\n",
            " pedal\n",
            " classic\n",
            " super\n",
            " attack\n"
          ],
          "name": "stdout"
        }
      ]
    },
    {
      "cell_type": "code",
      "metadata": {
        "colab": {
          "base_uri": "https://localhost:8080/",
          "height": 424
        },
        "id": "VfxM_j5oWavT",
        "outputId": "3ce7faf6-a57e-4d6b-ea0d-750603c7e63c"
      },
      "source": [
        "km = model.fit(X)\r\n",
        "clusters = km.labels_.tolist()\r\n",
        "clustered_data={'productID':product_descriptions1['productID'], 'Title':product_descriptions1['title'],'Cluster':clusters}\r\n",
        "frame=pd.DataFrame(clustered_data, columns=['productID','Title','Cluster'])\r\n",
        "frame"
      ],
      "execution_count": 37,
      "outputs": [
        {
          "output_type": "execute_result",
          "data": {
            "text/html": [
              "<div>\n",
              "<style scoped>\n",
              "    .dataframe tbody tr th:only-of-type {\n",
              "        vertical-align: middle;\n",
              "    }\n",
              "\n",
              "    .dataframe tbody tr th {\n",
              "        vertical-align: top;\n",
              "    }\n",
              "\n",
              "    .dataframe thead th {\n",
              "        text-align: right;\n",
              "    }\n",
              "</style>\n",
              "<table border=\"1\" class=\"dataframe\">\n",
              "  <thead>\n",
              "    <tr style=\"text-align: right;\">\n",
              "      <th></th>\n",
              "      <th>productID</th>\n",
              "      <th>Title</th>\n",
              "      <th>Cluster</th>\n",
              "    </tr>\n",
              "  </thead>\n",
              "  <tbody>\n",
              "    <tr>\n",
              "      <th>0</th>\n",
              "      <td>1384719342</td>\n",
              "      <td>niceEshop Studio Microphone Mic Wind Screen Po...</td>\n",
              "      <td>9</td>\n",
              "    </tr>\n",
              "    <tr>\n",
              "      <th>1</th>\n",
              "      <td>1384719342</td>\n",
              "      <td>niceEshop Studio Microphone Mic Wind Screen Po...</td>\n",
              "      <td>9</td>\n",
              "    </tr>\n",
              "    <tr>\n",
              "      <th>2</th>\n",
              "      <td>1384719342</td>\n",
              "      <td>niceEshop Studio Microphone Mic Wind Screen Po...</td>\n",
              "      <td>9</td>\n",
              "    </tr>\n",
              "    <tr>\n",
              "      <th>3</th>\n",
              "      <td>1384719342</td>\n",
              "      <td>niceEshop Studio Microphone Mic Wind Screen Po...</td>\n",
              "      <td>9</td>\n",
              "    </tr>\n",
              "    <tr>\n",
              "      <th>4</th>\n",
              "      <td>1384719342</td>\n",
              "      <td>niceEshop Studio Microphone Mic Wind Screen Po...</td>\n",
              "      <td>9</td>\n",
              "    </tr>\n",
              "    <tr>\n",
              "      <th>...</th>\n",
              "      <td>...</td>\n",
              "      <td>...</td>\n",
              "      <td>...</td>\n",
              "    </tr>\n",
              "    <tr>\n",
              "      <th>819</th>\n",
              "      <td>B0002D0CEO</td>\n",
              "      <td>Tortex Guitar Pick, .50 Red, Pack of 12 (418P.50)</td>\n",
              "      <td>2</td>\n",
              "    </tr>\n",
              "    <tr>\n",
              "      <th>820</th>\n",
              "      <td>B0002D0CEO</td>\n",
              "      <td>Tortex Guitar Pick, .50 Red, Pack of 12 (418P.50)</td>\n",
              "      <td>2</td>\n",
              "    </tr>\n",
              "    <tr>\n",
              "      <th>821</th>\n",
              "      <td>B0002D0CEO</td>\n",
              "      <td>Tortex Guitar Pick, .50 Red, Pack of 12 (418P.50)</td>\n",
              "      <td>2</td>\n",
              "    </tr>\n",
              "    <tr>\n",
              "      <th>847</th>\n",
              "      <td>B0002D0CGM</td>\n",
              "      <td>Dunlop Nylon Standard Picks, Cream .46mm, Qty 12</td>\n",
              "      <td>5</td>\n",
              "    </tr>\n",
              "    <tr>\n",
              "      <th>848</th>\n",
              "      <td>B0002D0CGM</td>\n",
              "      <td>Dunlop Nylon Standard Picks, Cream .46mm, Qty 12</td>\n",
              "      <td>5</td>\n",
              "    </tr>\n",
              "  </tbody>\n",
              "</table>\n",
              "<p>500 rows × 3 columns</p>\n",
              "</div>"
            ],
            "text/plain": [
              "      productID                                              Title  Cluster\n",
              "0    1384719342  niceEshop Studio Microphone Mic Wind Screen Po...        9\n",
              "1    1384719342  niceEshop Studio Microphone Mic Wind Screen Po...        9\n",
              "2    1384719342  niceEshop Studio Microphone Mic Wind Screen Po...        9\n",
              "3    1384719342  niceEshop Studio Microphone Mic Wind Screen Po...        9\n",
              "4    1384719342  niceEshop Studio Microphone Mic Wind Screen Po...        9\n",
              "..          ...                                                ...      ...\n",
              "819  B0002D0CEO  Tortex Guitar Pick, .50 Red, Pack of 12 (418P.50)        2\n",
              "820  B0002D0CEO  Tortex Guitar Pick, .50 Red, Pack of 12 (418P.50)        2\n",
              "821  B0002D0CEO  Tortex Guitar Pick, .50 Red, Pack of 12 (418P.50)        2\n",
              "847  B0002D0CGM   Dunlop Nylon Standard Picks, Cream .46mm, Qty 12        5\n",
              "848  B0002D0CGM   Dunlop Nylon Standard Picks, Cream .46mm, Qty 12        5\n",
              "\n",
              "[500 rows x 3 columns]"
            ]
          },
          "metadata": {
            "tags": []
          },
          "execution_count": 37
        }
      ]
    },
    {
      "cell_type": "markdown",
      "metadata": {
        "id": "t3uD1nl8PvJF"
      },
      "source": [
        "# DBSCAN Clustering"
      ]
    },
    {
      "cell_type": "code",
      "metadata": {
        "colab": {
          "base_uri": "https://localhost:8080/",
          "height": 424
        },
        "id": "APprs-joPy1r",
        "outputId": "21acc82f-8f76-48dd-812f-90fff7197e9b"
      },
      "source": [
        "X=X1\r\n",
        "\r\n",
        "dbscan = DBSCAN()\r\n",
        "db = dbscan.fit(X)\r\n",
        "clusters = db.labels_.tolist()\r\n",
        "y_dbscan = dbscan.fit_predict(X)\r\n",
        "clustered_data={'productID':product_descriptions1['productID'], 'Title':product_descriptions1['title'],'Cluster':clusters}\r\n",
        "frame=pd.DataFrame(clustered_data, columns=['productID','Title','Cluster'])\r\n",
        "frame"
      ],
      "execution_count": 29,
      "outputs": [
        {
          "output_type": "execute_result",
          "data": {
            "text/html": [
              "<div>\n",
              "<style scoped>\n",
              "    .dataframe tbody tr th:only-of-type {\n",
              "        vertical-align: middle;\n",
              "    }\n",
              "\n",
              "    .dataframe tbody tr th {\n",
              "        vertical-align: top;\n",
              "    }\n",
              "\n",
              "    .dataframe thead th {\n",
              "        text-align: right;\n",
              "    }\n",
              "</style>\n",
              "<table border=\"1\" class=\"dataframe\">\n",
              "  <thead>\n",
              "    <tr style=\"text-align: right;\">\n",
              "      <th></th>\n",
              "      <th>productID</th>\n",
              "      <th>Title</th>\n",
              "      <th>Cluster</th>\n",
              "    </tr>\n",
              "  </thead>\n",
              "  <tbody>\n",
              "    <tr>\n",
              "      <th>0</th>\n",
              "      <td>1384719342</td>\n",
              "      <td>niceEshop Studio Microphone Mic Wind Screen Po...</td>\n",
              "      <td>0</td>\n",
              "    </tr>\n",
              "    <tr>\n",
              "      <th>1</th>\n",
              "      <td>1384719342</td>\n",
              "      <td>niceEshop Studio Microphone Mic Wind Screen Po...</td>\n",
              "      <td>0</td>\n",
              "    </tr>\n",
              "    <tr>\n",
              "      <th>2</th>\n",
              "      <td>1384719342</td>\n",
              "      <td>niceEshop Studio Microphone Mic Wind Screen Po...</td>\n",
              "      <td>0</td>\n",
              "    </tr>\n",
              "    <tr>\n",
              "      <th>3</th>\n",
              "      <td>1384719342</td>\n",
              "      <td>niceEshop Studio Microphone Mic Wind Screen Po...</td>\n",
              "      <td>0</td>\n",
              "    </tr>\n",
              "    <tr>\n",
              "      <th>4</th>\n",
              "      <td>1384719342</td>\n",
              "      <td>niceEshop Studio Microphone Mic Wind Screen Po...</td>\n",
              "      <td>0</td>\n",
              "    </tr>\n",
              "    <tr>\n",
              "      <th>...</th>\n",
              "      <td>...</td>\n",
              "      <td>...</td>\n",
              "      <td>...</td>\n",
              "    </tr>\n",
              "    <tr>\n",
              "      <th>819</th>\n",
              "      <td>B0002D0CEO</td>\n",
              "      <td>Tortex Guitar Pick, .50 Red, Pack of 12 (418P.50)</td>\n",
              "      <td>41</td>\n",
              "    </tr>\n",
              "    <tr>\n",
              "      <th>820</th>\n",
              "      <td>B0002D0CEO</td>\n",
              "      <td>Tortex Guitar Pick, .50 Red, Pack of 12 (418P.50)</td>\n",
              "      <td>41</td>\n",
              "    </tr>\n",
              "    <tr>\n",
              "      <th>821</th>\n",
              "      <td>B0002D0CEO</td>\n",
              "      <td>Tortex Guitar Pick, .50 Red, Pack of 12 (418P.50)</td>\n",
              "      <td>41</td>\n",
              "    </tr>\n",
              "    <tr>\n",
              "      <th>847</th>\n",
              "      <td>B0002D0CGM</td>\n",
              "      <td>Dunlop Nylon Standard Picks, Cream .46mm, Qty 12</td>\n",
              "      <td>-1</td>\n",
              "    </tr>\n",
              "    <tr>\n",
              "      <th>848</th>\n",
              "      <td>B0002D0CGM</td>\n",
              "      <td>Dunlop Nylon Standard Picks, Cream .46mm, Qty 12</td>\n",
              "      <td>-1</td>\n",
              "    </tr>\n",
              "  </tbody>\n",
              "</table>\n",
              "<p>500 rows × 3 columns</p>\n",
              "</div>"
            ],
            "text/plain": [
              "      productID                                              Title  Cluster\n",
              "0    1384719342  niceEshop Studio Microphone Mic Wind Screen Po...        0\n",
              "1    1384719342  niceEshop Studio Microphone Mic Wind Screen Po...        0\n",
              "2    1384719342  niceEshop Studio Microphone Mic Wind Screen Po...        0\n",
              "3    1384719342  niceEshop Studio Microphone Mic Wind Screen Po...        0\n",
              "4    1384719342  niceEshop Studio Microphone Mic Wind Screen Po...        0\n",
              "..          ...                                                ...      ...\n",
              "819  B0002D0CEO  Tortex Guitar Pick, .50 Red, Pack of 12 (418P.50)       41\n",
              "820  B0002D0CEO  Tortex Guitar Pick, .50 Red, Pack of 12 (418P.50)       41\n",
              "821  B0002D0CEO  Tortex Guitar Pick, .50 Red, Pack of 12 (418P.50)       41\n",
              "847  B0002D0CGM   Dunlop Nylon Standard Picks, Cream .46mm, Qty 12       -1\n",
              "848  B0002D0CGM   Dunlop Nylon Standard Picks, Cream .46mm, Qty 12       -1\n",
              "\n",
              "[500 rows x 3 columns]"
            ]
          },
          "metadata": {
            "tags": []
          },
          "execution_count": 29
        }
      ]
    }
  ]
}