{
  "nbformat": 4,
  "nbformat_minor": 0,
  "metadata": {
    "colab": {
      "name": "Recommendation_WeightedAvg.ipynb",
      "provenance": [],
      "collapsed_sections": []
    },
    "kernelspec": {
      "name": "python3",
      "display_name": "Python 3"
    }
  },
  "cells": [
    {
      "cell_type": "code",
      "metadata": {
        "id": "tZdh86t129YV"
      },
      "source": [
        "import numpy as np\r\n",
        "import scipy as sp\r\n",
        "import pandas as pd\r\n",
        "import matplotlib.pyplot as plt"
      ],
      "execution_count": 1,
      "outputs": []
    },
    {
      "cell_type": "code",
      "metadata": {
        "id": "8IBLK6vx3MCP"
      },
      "source": [
        "dataset = 'https://raw.githubusercontent.com/vaishnavipatil555/RecommenderSystem/main/reviews_Musical_Instruments.csv'\r\n",
        "metadata = 'https://raw.githubusercontent.com/vaishnavipatil555/RecommenderSystem/main/meta_Musical_Instruments.csv'"
      ],
      "execution_count": 2,
      "outputs": []
    },
    {
      "cell_type": "code",
      "metadata": {
        "id": "YZlF3fhI3TXz"
      },
      "source": [
        "df = pd.read_csv(dataset)\r\n",
        "meta_df = pd.read_csv(metadata)"
      ],
      "execution_count": 3,
      "outputs": []
    },
    {
      "cell_type": "code",
      "metadata": {
        "id": "YlMP81E43Zkk"
      },
      "source": [
        "df = df.merge(meta_df, on='asin')"
      ],
      "execution_count": 4,
      "outputs": []
    },
    {
      "cell_type": "code",
      "metadata": {
        "colab": {
          "base_uri": "https://localhost:8080/"
        },
        "id": "kdYdk5-tOImY",
        "outputId": "a9442e08-dc42-426c-ed15-25b467b0d2c6"
      },
      "source": [
        "print(df.shape)\r\n",
        "df.drop_duplicates(subset=['reviewerID', 'asin','unixReviewTime'],inplace=True)"
      ],
      "execution_count": 5,
      "outputs": [
        {
          "output_type": "stream",
          "text": [
            "(267371, 17)\n"
          ],
          "name": "stdout"
        }
      ]
    },
    {
      "cell_type": "code",
      "metadata": {
        "colab": {
          "base_uri": "https://localhost:8080/"
        },
        "id": "LJ1F3yDYOePt",
        "outputId": "a53d1e4b-fe45-4ad6-b506-5fb466c19af3"
      },
      "source": [
        "df.shape"
      ],
      "execution_count": 6,
      "outputs": [
        {
          "output_type": "execute_result",
          "data": {
            "text/plain": [
              "(10261, 17)"
            ]
          },
          "metadata": {
            "tags": []
          },
          "execution_count": 6
        }
      ]
    },
    {
      "cell_type": "code",
      "metadata": {
        "id": "zlolVNPw3xms"
      },
      "source": [
        "df.rename(columns={'asin':'productID'}, inplace=True)"
      ],
      "execution_count": 7,
      "outputs": []
    },
    {
      "cell_type": "code",
      "metadata": {
        "id": "nrFa4gu84er7"
      },
      "source": [
        "df = df.drop(['unixReviewTime', 'reviewTime'], axis=1)"
      ],
      "execution_count": 8,
      "outputs": []
    },
    {
      "cell_type": "code",
      "metadata": {
        "id": "70ag3xl25QLT"
      },
      "source": [
        "help_num = []\r\n",
        "help_den = []\r\n",
        "c = 0\r\n",
        "for val in df.helpful.values:\r\n",
        "  lst = list(val[1:-1].split(', '))\r\n",
        "  help_num.append(int(lst[0]))\r\n",
        "  help_den.append(int(lst[1]))\r\n",
        "#pd.DataFrame({'lst1': help_num, 'lst2': help_den}, index = reviews.index)\r\n",
        "df[['HelpfulnessNumerator','HelpfulnessDenominator']] = pd.DataFrame({'lst1': help_num, 'lst2': help_den}, index = df.index)"
      ],
      "execution_count": 9,
      "outputs": []
    },
    {
      "cell_type": "code",
      "metadata": {
        "id": "Kg88_OoR6KZl"
      },
      "source": [
        "df['Helpful %'] = np.where(df['HelpfulnessDenominator'] > 0, df['HelpfulnessNumerator'] / df['HelpfulnessDenominator'], -1)"
      ],
      "execution_count": 10,
      "outputs": []
    },
    {
      "cell_type": "markdown",
      "metadata": {
        "id": "T2OXDCSJoIS4"
      },
      "source": [
        "**Recommendation based on weighted average**"
      ]
    },
    {
      "cell_type": "code",
      "metadata": {
        "colab": {
          "base_uri": "https://localhost:8080/"
        },
        "id": "C8okkv3YXpmS",
        "outputId": "3d260620-52da-4358-a826-aab99f7bfa8a"
      },
      "source": [
        "len(df.reviewerID.unique())"
      ],
      "execution_count": 11,
      "outputs": [
        {
          "output_type": "execute_result",
          "data": {
            "text/plain": [
              "1429"
            ]
          },
          "metadata": {
            "tags": []
          },
          "execution_count": 11
        }
      ]
    },
    {
      "cell_type": "code",
      "metadata": {
        "colab": {
          "base_uri": "https://localhost:8080/"
        },
        "id": "HTU6fX6CpZrI",
        "outputId": "483eee24-61cd-4f73-b88a-ab9c07a4b763"
      },
      "source": [
        "len(df.productID.unique())"
      ],
      "execution_count": 12,
      "outputs": [
        {
          "output_type": "execute_result",
          "data": {
            "text/plain": [
              "900"
            ]
          },
          "metadata": {
            "tags": []
          },
          "execution_count": 12
        }
      ]
    },
    {
      "cell_type": "code",
      "metadata": {
        "colab": {
          "base_uri": "https://localhost:8080/",
          "height": 455
        },
        "id": "8QaFEsfypwED",
        "outputId": "620c6940-bc18-4ad4-cbc5-6a3512341bf9"
      },
      "source": [
        "popular_products = pd.DataFrame(df.groupby('productID')['overall'].count())\r\n",
        "popular_products"
      ],
      "execution_count": 13,
      "outputs": [
        {
          "output_type": "execute_result",
          "data": {
            "text/html": [
              "<div>\n",
              "<style scoped>\n",
              "    .dataframe tbody tr th:only-of-type {\n",
              "        vertical-align: middle;\n",
              "    }\n",
              "\n",
              "    .dataframe tbody tr th {\n",
              "        vertical-align: top;\n",
              "    }\n",
              "\n",
              "    .dataframe thead th {\n",
              "        text-align: right;\n",
              "    }\n",
              "</style>\n",
              "<table border=\"1\" class=\"dataframe\">\n",
              "  <thead>\n",
              "    <tr style=\"text-align: right;\">\n",
              "      <th></th>\n",
              "      <th>overall</th>\n",
              "    </tr>\n",
              "    <tr>\n",
              "      <th>productID</th>\n",
              "      <th></th>\n",
              "    </tr>\n",
              "  </thead>\n",
              "  <tbody>\n",
              "    <tr>\n",
              "      <th>1384719342</th>\n",
              "      <td>5</td>\n",
              "    </tr>\n",
              "    <tr>\n",
              "      <th>B00004Y2UT</th>\n",
              "      <td>6</td>\n",
              "    </tr>\n",
              "    <tr>\n",
              "      <th>B00005ML71</th>\n",
              "      <td>5</td>\n",
              "    </tr>\n",
              "    <tr>\n",
              "      <th>B000068NSX</th>\n",
              "      <td>7</td>\n",
              "    </tr>\n",
              "    <tr>\n",
              "      <th>B000068NTU</th>\n",
              "      <td>5</td>\n",
              "    </tr>\n",
              "    <tr>\n",
              "      <th>...</th>\n",
              "      <td>...</td>\n",
              "    </tr>\n",
              "    <tr>\n",
              "      <th>B00H02C9TG</th>\n",
              "      <td>6</td>\n",
              "    </tr>\n",
              "    <tr>\n",
              "      <th>B00HFRXACG</th>\n",
              "      <td>11</td>\n",
              "    </tr>\n",
              "    <tr>\n",
              "      <th>B00IZCSW3M</th>\n",
              "      <td>24</td>\n",
              "    </tr>\n",
              "    <tr>\n",
              "      <th>B00J4TBMVO</th>\n",
              "      <td>8</td>\n",
              "    </tr>\n",
              "    <tr>\n",
              "      <th>B00JBIVXGC</th>\n",
              "      <td>13</td>\n",
              "    </tr>\n",
              "  </tbody>\n",
              "</table>\n",
              "<p>900 rows × 1 columns</p>\n",
              "</div>"
            ],
            "text/plain": [
              "            overall\n",
              "productID          \n",
              "1384719342        5\n",
              "B00004Y2UT        6\n",
              "B00005ML71        5\n",
              "B000068NSX        7\n",
              "B000068NTU        5\n",
              "...             ...\n",
              "B00H02C9TG        6\n",
              "B00HFRXACG       11\n",
              "B00IZCSW3M       24\n",
              "B00J4TBMVO        8\n",
              "B00JBIVXGC       13\n",
              "\n",
              "[900 rows x 1 columns]"
            ]
          },
          "metadata": {
            "tags": []
          },
          "execution_count": 13
        }
      ]
    },
    {
      "cell_type": "code",
      "metadata": {
        "id": "rlJFynr_t38f"
      },
      "source": [
        "popular_products.rename(columns={'overall':'votes'}, inplace=True)"
      ],
      "execution_count": 14,
      "outputs": []
    },
    {
      "cell_type": "code",
      "metadata": {
        "colab": {
          "base_uri": "https://localhost:8080/",
          "height": 455
        },
        "id": "z-80xO6rtWph",
        "outputId": "d8ba232d-6d4e-4a66-fdfc-eda2255ff530"
      },
      "source": [
        "avg = pd.DataFrame(df.groupby('productID')['overall'].mean())\r\n",
        "avg"
      ],
      "execution_count": 15,
      "outputs": [
        {
          "output_type": "execute_result",
          "data": {
            "text/html": [
              "<div>\n",
              "<style scoped>\n",
              "    .dataframe tbody tr th:only-of-type {\n",
              "        vertical-align: middle;\n",
              "    }\n",
              "\n",
              "    .dataframe tbody tr th {\n",
              "        vertical-align: top;\n",
              "    }\n",
              "\n",
              "    .dataframe thead th {\n",
              "        text-align: right;\n",
              "    }\n",
              "</style>\n",
              "<table border=\"1\" class=\"dataframe\">\n",
              "  <thead>\n",
              "    <tr style=\"text-align: right;\">\n",
              "      <th></th>\n",
              "      <th>overall</th>\n",
              "    </tr>\n",
              "    <tr>\n",
              "      <th>productID</th>\n",
              "      <th></th>\n",
              "    </tr>\n",
              "  </thead>\n",
              "  <tbody>\n",
              "    <tr>\n",
              "      <th>1384719342</th>\n",
              "      <td>5.000000</td>\n",
              "    </tr>\n",
              "    <tr>\n",
              "      <th>B00004Y2UT</th>\n",
              "      <td>4.666667</td>\n",
              "    </tr>\n",
              "    <tr>\n",
              "      <th>B00005ML71</th>\n",
              "      <td>3.800000</td>\n",
              "    </tr>\n",
              "    <tr>\n",
              "      <th>B000068NSX</th>\n",
              "      <td>4.571429</td>\n",
              "    </tr>\n",
              "    <tr>\n",
              "      <th>B000068NTU</th>\n",
              "      <td>4.800000</td>\n",
              "    </tr>\n",
              "    <tr>\n",
              "      <th>...</th>\n",
              "      <td>...</td>\n",
              "    </tr>\n",
              "    <tr>\n",
              "      <th>B00H02C9TG</th>\n",
              "      <td>4.833333</td>\n",
              "    </tr>\n",
              "    <tr>\n",
              "      <th>B00HFRXACG</th>\n",
              "      <td>4.818182</td>\n",
              "    </tr>\n",
              "    <tr>\n",
              "      <th>B00IZCSW3M</th>\n",
              "      <td>4.791667</td>\n",
              "    </tr>\n",
              "    <tr>\n",
              "      <th>B00J4TBMVO</th>\n",
              "      <td>4.500000</td>\n",
              "    </tr>\n",
              "    <tr>\n",
              "      <th>B00JBIVXGC</th>\n",
              "      <td>4.538462</td>\n",
              "    </tr>\n",
              "  </tbody>\n",
              "</table>\n",
              "<p>900 rows × 1 columns</p>\n",
              "</div>"
            ],
            "text/plain": [
              "             overall\n",
              "productID           \n",
              "1384719342  5.000000\n",
              "B00004Y2UT  4.666667\n",
              "B00005ML71  3.800000\n",
              "B000068NSX  4.571429\n",
              "B000068NTU  4.800000\n",
              "...              ...\n",
              "B00H02C9TG  4.833333\n",
              "B00HFRXACG  4.818182\n",
              "B00IZCSW3M  4.791667\n",
              "B00J4TBMVO  4.500000\n",
              "B00JBIVXGC  4.538462\n",
              "\n",
              "[900 rows x 1 columns]"
            ]
          },
          "metadata": {
            "tags": []
          },
          "execution_count": 15
        }
      ]
    },
    {
      "cell_type": "code",
      "metadata": {
        "id": "2k8UnzsQqTh1"
      },
      "source": [
        "new_df = df.drop('overall', axis=1)\r\n",
        "new_df = new_df.merge(avg, on='productID')"
      ],
      "execution_count": 16,
      "outputs": []
    },
    {
      "cell_type": "code",
      "metadata": {
        "id": "xFDJ0V6otp1h"
      },
      "source": [
        "new_df = new_df.merge(popular_products, on='productID')"
      ],
      "execution_count": 17,
      "outputs": []
    },
    {
      "cell_type": "code",
      "metadata": {
        "colab": {
          "base_uri": "https://localhost:8080/",
          "height": 1000
        },
        "id": "HMVRnCd9rcmo",
        "outputId": "3e5b757e-1b4c-40ff-d7d0-cb410e88b63e"
      },
      "source": [
        "new_df"
      ],
      "execution_count": 18,
      "outputs": [
        {
          "output_type": "execute_result",
          "data": {
            "text/html": [
              "<div>\n",
              "<style scoped>\n",
              "    .dataframe tbody tr th:only-of-type {\n",
              "        vertical-align: middle;\n",
              "    }\n",
              "\n",
              "    .dataframe tbody tr th {\n",
              "        vertical-align: top;\n",
              "    }\n",
              "\n",
              "    .dataframe thead th {\n",
              "        text-align: right;\n",
              "    }\n",
              "</style>\n",
              "<table border=\"1\" class=\"dataframe\">\n",
              "  <thead>\n",
              "    <tr style=\"text-align: right;\">\n",
              "      <th></th>\n",
              "      <th>reviewerID</th>\n",
              "      <th>productID</th>\n",
              "      <th>reviewerName</th>\n",
              "      <th>helpful</th>\n",
              "      <th>reviewText</th>\n",
              "      <th>summary</th>\n",
              "      <th>title</th>\n",
              "      <th>price</th>\n",
              "      <th>imUrl</th>\n",
              "      <th>salesRank</th>\n",
              "      <th>categories</th>\n",
              "      <th>related</th>\n",
              "      <th>brand</th>\n",
              "      <th>description</th>\n",
              "      <th>HelpfulnessNumerator</th>\n",
              "      <th>HelpfulnessDenominator</th>\n",
              "      <th>Helpful %</th>\n",
              "      <th>overall</th>\n",
              "      <th>votes</th>\n",
              "    </tr>\n",
              "  </thead>\n",
              "  <tbody>\n",
              "    <tr>\n",
              "      <th>0</th>\n",
              "      <td>A2IBPI20UZIR0U</td>\n",
              "      <td>1384719342</td>\n",
              "      <td>cassandra tu \"Yeah, well, that's just like, u...</td>\n",
              "      <td>[0, 0]</td>\n",
              "      <td>Not much to write about here, but it does exac...</td>\n",
              "      <td>good</td>\n",
              "      <td>niceEshop Studio Microphone Mic Wind Screen Po...</td>\n",
              "      <td>7.09</td>\n",
              "      <td>http://ecx.images-amazon.com/images/I/510D2cVp...</td>\n",
              "      <td>{'Musical Instruments': 2880}</td>\n",
              "      <td>[['Musical Instruments', 'Microphones &amp; Access...</td>\n",
              "      <td>{'also_bought': ['B009D015TI', 'B004QJREXM', '...</td>\n",
              "      <td>niceEshop</td>\n",
              "      <td>New generic Studio Microphone Mic Wind Screen ...</td>\n",
              "      <td>0</td>\n",
              "      <td>0</td>\n",
              "      <td>-1.000000</td>\n",
              "      <td>5.000000</td>\n",
              "      <td>5</td>\n",
              "    </tr>\n",
              "    <tr>\n",
              "      <th>1</th>\n",
              "      <td>A14VAT5EAX3D9S</td>\n",
              "      <td>1384719342</td>\n",
              "      <td>Jake</td>\n",
              "      <td>[13, 14]</td>\n",
              "      <td>The product does exactly as it should and is q...</td>\n",
              "      <td>Jake</td>\n",
              "      <td>niceEshop Studio Microphone Mic Wind Screen Po...</td>\n",
              "      <td>7.09</td>\n",
              "      <td>http://ecx.images-amazon.com/images/I/510D2cVp...</td>\n",
              "      <td>{'Musical Instruments': 2880}</td>\n",
              "      <td>[['Musical Instruments', 'Microphones &amp; Access...</td>\n",
              "      <td>{'also_bought': ['B009D015TI', 'B004QJREXM', '...</td>\n",
              "      <td>niceEshop</td>\n",
              "      <td>New generic Studio Microphone Mic Wind Screen ...</td>\n",
              "      <td>13</td>\n",
              "      <td>14</td>\n",
              "      <td>0.928571</td>\n",
              "      <td>5.000000</td>\n",
              "      <td>5</td>\n",
              "    </tr>\n",
              "    <tr>\n",
              "      <th>2</th>\n",
              "      <td>A195EZSQDW3E21</td>\n",
              "      <td>1384719342</td>\n",
              "      <td>Rick Bennette \"Rick Bennette\"</td>\n",
              "      <td>[1, 1]</td>\n",
              "      <td>The primary job of this device is to block the...</td>\n",
              "      <td>It Does The Job Well</td>\n",
              "      <td>niceEshop Studio Microphone Mic Wind Screen Po...</td>\n",
              "      <td>7.09</td>\n",
              "      <td>http://ecx.images-amazon.com/images/I/510D2cVp...</td>\n",
              "      <td>{'Musical Instruments': 2880}</td>\n",
              "      <td>[['Musical Instruments', 'Microphones &amp; Access...</td>\n",
              "      <td>{'also_bought': ['B009D015TI', 'B004QJREXM', '...</td>\n",
              "      <td>niceEshop</td>\n",
              "      <td>New generic Studio Microphone Mic Wind Screen ...</td>\n",
              "      <td>1</td>\n",
              "      <td>1</td>\n",
              "      <td>1.000000</td>\n",
              "      <td>5.000000</td>\n",
              "      <td>5</td>\n",
              "    </tr>\n",
              "    <tr>\n",
              "      <th>3</th>\n",
              "      <td>A2C00NNG1ZQQG2</td>\n",
              "      <td>1384719342</td>\n",
              "      <td>RustyBill \"Sunday Rocker\"</td>\n",
              "      <td>[0, 0]</td>\n",
              "      <td>Nice windscreen protects my MXL mic and preven...</td>\n",
              "      <td>GOOD WINDSCREEN FOR THE MONEY</td>\n",
              "      <td>niceEshop Studio Microphone Mic Wind Screen Po...</td>\n",
              "      <td>7.09</td>\n",
              "      <td>http://ecx.images-amazon.com/images/I/510D2cVp...</td>\n",
              "      <td>{'Musical Instruments': 2880}</td>\n",
              "      <td>[['Musical Instruments', 'Microphones &amp; Access...</td>\n",
              "      <td>{'also_bought': ['B009D015TI', 'B004QJREXM', '...</td>\n",
              "      <td>niceEshop</td>\n",
              "      <td>New generic Studio Microphone Mic Wind Screen ...</td>\n",
              "      <td>0</td>\n",
              "      <td>0</td>\n",
              "      <td>-1.000000</td>\n",
              "      <td>5.000000</td>\n",
              "      <td>5</td>\n",
              "    </tr>\n",
              "    <tr>\n",
              "      <th>4</th>\n",
              "      <td>A94QU4C90B1AX</td>\n",
              "      <td>1384719342</td>\n",
              "      <td>SEAN MASLANKA</td>\n",
              "      <td>[0, 0]</td>\n",
              "      <td>This pop filter is great. It looks and perform...</td>\n",
              "      <td>No more pops when I record my vocals.</td>\n",
              "      <td>niceEshop Studio Microphone Mic Wind Screen Po...</td>\n",
              "      <td>7.09</td>\n",
              "      <td>http://ecx.images-amazon.com/images/I/510D2cVp...</td>\n",
              "      <td>{'Musical Instruments': 2880}</td>\n",
              "      <td>[['Musical Instruments', 'Microphones &amp; Access...</td>\n",
              "      <td>{'also_bought': ['B009D015TI', 'B004QJREXM', '...</td>\n",
              "      <td>niceEshop</td>\n",
              "      <td>New generic Studio Microphone Mic Wind Screen ...</td>\n",
              "      <td>0</td>\n",
              "      <td>0</td>\n",
              "      <td>-1.000000</td>\n",
              "      <td>5.000000</td>\n",
              "      <td>5</td>\n",
              "    </tr>\n",
              "    <tr>\n",
              "      <th>...</th>\n",
              "      <td>...</td>\n",
              "      <td>...</td>\n",
              "      <td>...</td>\n",
              "      <td>...</td>\n",
              "      <td>...</td>\n",
              "      <td>...</td>\n",
              "      <td>...</td>\n",
              "      <td>...</td>\n",
              "      <td>...</td>\n",
              "      <td>...</td>\n",
              "      <td>...</td>\n",
              "      <td>...</td>\n",
              "      <td>...</td>\n",
              "      <td>...</td>\n",
              "      <td>...</td>\n",
              "      <td>...</td>\n",
              "      <td>...</td>\n",
              "      <td>...</td>\n",
              "      <td>...</td>\n",
              "    </tr>\n",
              "    <tr>\n",
              "      <th>10256</th>\n",
              "      <td>A14B2YH83ZXMPP</td>\n",
              "      <td>B00JBIVXGC</td>\n",
              "      <td>Lonnie M. Adams</td>\n",
              "      <td>[0, 0]</td>\n",
              "      <td>Great, just as expected.  Thank to all.</td>\n",
              "      <td>Five Stars</td>\n",
              "      <td>Elixir Strings 16182 Acoustic Phosphor Bronze ...</td>\n",
              "      <td>15.99</td>\n",
              "      <td>http://ecx.images-amazon.com/images/I/51yMv5i7...</td>\n",
              "      <td>{'Musical Instruments': 628}</td>\n",
              "      <td>[['Musical Instruments', 'Instrument Accessori...</td>\n",
              "      <td>{'also_bought': ['B00J4TBMVO', 'B000A6ASSS', '...</td>\n",
              "      <td>Elixir Strings</td>\n",
              "      <td>Elixir Acoustic HD Light Phosphor Bronze Strin...</td>\n",
              "      <td>0</td>\n",
              "      <td>0</td>\n",
              "      <td>-1.000000</td>\n",
              "      <td>4.538462</td>\n",
              "      <td>13</td>\n",
              "    </tr>\n",
              "    <tr>\n",
              "      <th>10257</th>\n",
              "      <td>A1RPTVW5VEOSI</td>\n",
              "      <td>B00JBIVXGC</td>\n",
              "      <td>Michael J. Edelman</td>\n",
              "      <td>[0, 0]</td>\n",
              "      <td>I've been thinking about trying the Nanoweb st...</td>\n",
              "      <td>Long life, and for some players, a good econom...</td>\n",
              "      <td>Elixir Strings 16182 Acoustic Phosphor Bronze ...</td>\n",
              "      <td>15.99</td>\n",
              "      <td>http://ecx.images-amazon.com/images/I/51yMv5i7...</td>\n",
              "      <td>{'Musical Instruments': 628}</td>\n",
              "      <td>[['Musical Instruments', 'Instrument Accessori...</td>\n",
              "      <td>{'also_bought': ['B00J4TBMVO', 'B000A6ASSS', '...</td>\n",
              "      <td>Elixir Strings</td>\n",
              "      <td>Elixir Acoustic HD Light Phosphor Bronze Strin...</td>\n",
              "      <td>0</td>\n",
              "      <td>0</td>\n",
              "      <td>-1.000000</td>\n",
              "      <td>4.538462</td>\n",
              "      <td>13</td>\n",
              "    </tr>\n",
              "    <tr>\n",
              "      <th>10258</th>\n",
              "      <td>AWCJ12KBO5VII</td>\n",
              "      <td>B00JBIVXGC</td>\n",
              "      <td>Michael L. Knapp</td>\n",
              "      <td>[0, 0]</td>\n",
              "      <td>I have tried coated strings in the past ( incl...</td>\n",
              "      <td>Good for coated.</td>\n",
              "      <td>Elixir Strings 16182 Acoustic Phosphor Bronze ...</td>\n",
              "      <td>15.99</td>\n",
              "      <td>http://ecx.images-amazon.com/images/I/51yMv5i7...</td>\n",
              "      <td>{'Musical Instruments': 628}</td>\n",
              "      <td>[['Musical Instruments', 'Instrument Accessori...</td>\n",
              "      <td>{'also_bought': ['B00J4TBMVO', 'B000A6ASSS', '...</td>\n",
              "      <td>Elixir Strings</td>\n",
              "      <td>Elixir Acoustic HD Light Phosphor Bronze Strin...</td>\n",
              "      <td>0</td>\n",
              "      <td>0</td>\n",
              "      <td>-1.000000</td>\n",
              "      <td>4.538462</td>\n",
              "      <td>13</td>\n",
              "    </tr>\n",
              "    <tr>\n",
              "      <th>10259</th>\n",
              "      <td>A2Z7S8B5U4PAKJ</td>\n",
              "      <td>B00JBIVXGC</td>\n",
              "      <td>Rick Langdon \"Scriptor\"</td>\n",
              "      <td>[0, 0]</td>\n",
              "      <td>Well, MADE by Elixir and DEVELOPED with Taylor...</td>\n",
              "      <td>Taylor Made</td>\n",
              "      <td>Elixir Strings 16182 Acoustic Phosphor Bronze ...</td>\n",
              "      <td>15.99</td>\n",
              "      <td>http://ecx.images-amazon.com/images/I/51yMv5i7...</td>\n",
              "      <td>{'Musical Instruments': 628}</td>\n",
              "      <td>[['Musical Instruments', 'Instrument Accessori...</td>\n",
              "      <td>{'also_bought': ['B00J4TBMVO', 'B000A6ASSS', '...</td>\n",
              "      <td>Elixir Strings</td>\n",
              "      <td>Elixir Acoustic HD Light Phosphor Bronze Strin...</td>\n",
              "      <td>0</td>\n",
              "      <td>0</td>\n",
              "      <td>-1.000000</td>\n",
              "      <td>4.538462</td>\n",
              "      <td>13</td>\n",
              "    </tr>\n",
              "    <tr>\n",
              "      <th>10260</th>\n",
              "      <td>A2WA8TDCTGUADI</td>\n",
              "      <td>B00JBIVXGC</td>\n",
              "      <td>TheTerrorBeyond</td>\n",
              "      <td>[0, 0]</td>\n",
              "      <td>These strings are really quite good, but I wou...</td>\n",
              "      <td>These strings are really quite good, but I wou...</td>\n",
              "      <td>Elixir Strings 16182 Acoustic Phosphor Bronze ...</td>\n",
              "      <td>15.99</td>\n",
              "      <td>http://ecx.images-amazon.com/images/I/51yMv5i7...</td>\n",
              "      <td>{'Musical Instruments': 628}</td>\n",
              "      <td>[['Musical Instruments', 'Instrument Accessori...</td>\n",
              "      <td>{'also_bought': ['B00J4TBMVO', 'B000A6ASSS', '...</td>\n",
              "      <td>Elixir Strings</td>\n",
              "      <td>Elixir Acoustic HD Light Phosphor Bronze Strin...</td>\n",
              "      <td>0</td>\n",
              "      <td>0</td>\n",
              "      <td>-1.000000</td>\n",
              "      <td>4.538462</td>\n",
              "      <td>13</td>\n",
              "    </tr>\n",
              "  </tbody>\n",
              "</table>\n",
              "<p>10261 rows × 19 columns</p>\n",
              "</div>"
            ],
            "text/plain": [
              "           reviewerID   productID  ...   overall votes\n",
              "0      A2IBPI20UZIR0U  1384719342  ...  5.000000     5\n",
              "1      A14VAT5EAX3D9S  1384719342  ...  5.000000     5\n",
              "2      A195EZSQDW3E21  1384719342  ...  5.000000     5\n",
              "3      A2C00NNG1ZQQG2  1384719342  ...  5.000000     5\n",
              "4       A94QU4C90B1AX  1384719342  ...  5.000000     5\n",
              "...               ...         ...  ...       ...   ...\n",
              "10256  A14B2YH83ZXMPP  B00JBIVXGC  ...  4.538462    13\n",
              "10257   A1RPTVW5VEOSI  B00JBIVXGC  ...  4.538462    13\n",
              "10258   AWCJ12KBO5VII  B00JBIVXGC  ...  4.538462    13\n",
              "10259  A2Z7S8B5U4PAKJ  B00JBIVXGC  ...  4.538462    13\n",
              "10260  A2WA8TDCTGUADI  B00JBIVXGC  ...  4.538462    13\n",
              "\n",
              "[10261 rows x 19 columns]"
            ]
          },
          "metadata": {
            "tags": []
          },
          "execution_count": 18
        }
      ]
    },
    {
      "cell_type": "code",
      "metadata": {
        "id": "DEEfMBOStCbQ"
      },
      "source": [
        "v = new_df['votes']\r\n",
        "R = new_df['overall']\r\n",
        "C = new_df['overall'].mean()\r\n",
        "m = new_df['votes'].quantile(0.70)"
      ],
      "execution_count": 19,
      "outputs": []
    },
    {
      "cell_type": "code",
      "metadata": {
        "id": "fCKDvYxRunwG"
      },
      "source": [
        "new_df['weighted_avg'] = ((R*v) + (C*m)) / (v+m)"
      ],
      "execution_count": 20,
      "outputs": []
    },
    {
      "cell_type": "code",
      "metadata": {
        "colab": {
          "base_uri": "https://localhost:8080/",
          "height": 455
        },
        "id": "WmC3jtdnxl8N",
        "outputId": "7020f80a-71f0-4a16-ae84-d1b45f741dcf"
      },
      "source": [
        "weighted_df = pd.DataFrame(new_df.groupby('productID')['weighted_avg'].mean())\r\n",
        "weighted_df"
      ],
      "execution_count": 21,
      "outputs": [
        {
          "output_type": "execute_result",
          "data": {
            "text/html": [
              "<div>\n",
              "<style scoped>\n",
              "    .dataframe tbody tr th:only-of-type {\n",
              "        vertical-align: middle;\n",
              "    }\n",
              "\n",
              "    .dataframe tbody tr th {\n",
              "        vertical-align: top;\n",
              "    }\n",
              "\n",
              "    .dataframe thead th {\n",
              "        text-align: right;\n",
              "    }\n",
              "</style>\n",
              "<table border=\"1\" class=\"dataframe\">\n",
              "  <thead>\n",
              "    <tr style=\"text-align: right;\">\n",
              "      <th></th>\n",
              "      <th>weighted_avg</th>\n",
              "    </tr>\n",
              "    <tr>\n",
              "      <th>productID</th>\n",
              "      <th></th>\n",
              "    </tr>\n",
              "  </thead>\n",
              "  <tbody>\n",
              "    <tr>\n",
              "      <th>1384719342</th>\n",
              "      <td>4.580040</td>\n",
              "    </tr>\n",
              "    <tr>\n",
              "      <th>B00004Y2UT</th>\n",
              "      <td>4.525555</td>\n",
              "    </tr>\n",
              "    <tr>\n",
              "      <th>B00005ML71</th>\n",
              "      <td>4.365754</td>\n",
              "    </tr>\n",
              "    <tr>\n",
              "      <th>B000068NSX</th>\n",
              "      <td>4.508037</td>\n",
              "    </tr>\n",
              "    <tr>\n",
              "      <th>B000068NTU</th>\n",
              "      <td>4.544325</td>\n",
              "    </tr>\n",
              "    <tr>\n",
              "      <th>...</th>\n",
              "      <td>...</td>\n",
              "    </tr>\n",
              "    <tr>\n",
              "      <th>B00H02C9TG</th>\n",
              "      <td>4.560038</td>\n",
              "    </tr>\n",
              "    <tr>\n",
              "      <th>B00HFRXACG</th>\n",
              "      <td>4.595327</td>\n",
              "    </tr>\n",
              "    <tr>\n",
              "      <th>B00IZCSW3M</th>\n",
              "      <td>4.643428</td>\n",
              "    </tr>\n",
              "    <tr>\n",
              "      <th>B00J4TBMVO</th>\n",
              "      <td>4.491649</td>\n",
              "    </tr>\n",
              "    <tr>\n",
              "      <th>B00JBIVXGC</th>\n",
              "      <td>4.506697</td>\n",
              "    </tr>\n",
              "  </tbody>\n",
              "</table>\n",
              "<p>900 rows × 1 columns</p>\n",
              "</div>"
            ],
            "text/plain": [
              "            weighted_avg\n",
              "productID               \n",
              "1384719342      4.580040\n",
              "B00004Y2UT      4.525555\n",
              "B00005ML71      4.365754\n",
              "B000068NSX      4.508037\n",
              "B000068NTU      4.544325\n",
              "...                  ...\n",
              "B00H02C9TG      4.560038\n",
              "B00HFRXACG      4.595327\n",
              "B00IZCSW3M      4.643428\n",
              "B00J4TBMVO      4.491649\n",
              "B00JBIVXGC      4.506697\n",
              "\n",
              "[900 rows x 1 columns]"
            ]
          },
          "metadata": {
            "tags": []
          },
          "execution_count": 21
        }
      ]
    },
    {
      "cell_type": "code",
      "metadata": {
        "id": "qg9KFlzhyE2i"
      },
      "source": [
        "most_popular = weighted_df.sort_values('weighted_avg', ascending=False)\r\n",
        "msp = most_popular.head(10)"
      ],
      "execution_count": 22,
      "outputs": []
    },
    {
      "cell_type": "code",
      "metadata": {
        "colab": {
          "base_uri": "https://localhost:8080/"
        },
        "id": "gICgN8fZz_4-",
        "outputId": "acc307e8-8034-4248-a2fd-b890d76f4d28"
      },
      "source": [
        "for i in msp:\r\n",
        "  i = msp[i]\r\n",
        "  product_names = list(msp.index)\r\n",
        "  print(product_names)"
      ],
      "execution_count": 23,
      "outputs": [
        {
          "output_type": "stream",
          "text": [
            "['B0015RIN6U', 'B0002E2XCW', 'B001W99HE8', 'B0002D0CEO', 'B000L6GD04', 'B0042EZH6W', 'B0002GLCRC', 'B0002M6CVC', 'B0016ZZKJO', 'B000EELB8W']\n"
          ],
          "name": "stdout"
        }
      ]
    },
    {
      "cell_type": "code",
      "metadata": {
        "colab": {
          "base_uri": "https://localhost:8080/"
        },
        "id": "rentuem10ibR",
        "outputId": "709d8589-078d-481b-cb9a-19ad12c0e5db"
      },
      "source": [
        "for i in product_names:\r\n",
        "  print(i)\r\n",
        "  print(df.loc[df['productID'] == i, ['title', 'helpful', 'overall']])"
      ],
      "execution_count": 24,
      "outputs": [
        {
          "output_type": "stream",
          "text": [
            "B0015RIN6U\n",
            "                                  title   helpful  overall\n",
            "162231  Korg Pitchblack Chromatic Tuner    [0, 0]      5.0\n",
            "162258  Korg Pitchblack Chromatic Tuner    [2, 2]      5.0\n",
            "162285  Korg Pitchblack Chromatic Tuner    [0, 0]      5.0\n",
            "162312  Korg Pitchblack Chromatic Tuner    [0, 0]      5.0\n",
            "162339  Korg Pitchblack Chromatic Tuner    [0, 0]      5.0\n",
            "162366  Korg Pitchblack Chromatic Tuner    [0, 0]      5.0\n",
            "162393  Korg Pitchblack Chromatic Tuner    [0, 0]      5.0\n",
            "162420  Korg Pitchblack Chromatic Tuner    [0, 0]      5.0\n",
            "162447  Korg Pitchblack Chromatic Tuner  [32, 33]      5.0\n",
            "162474  Korg Pitchblack Chromatic Tuner    [0, 0]      4.0\n",
            "162501  Korg Pitchblack Chromatic Tuner    [0, 0]      5.0\n",
            "162528  Korg Pitchblack Chromatic Tuner    [0, 0]      5.0\n",
            "162555  Korg Pitchblack Chromatic Tuner    [0, 0]      5.0\n",
            "162582  Korg Pitchblack Chromatic Tuner    [0, 1]      5.0\n",
            "162609  Korg Pitchblack Chromatic Tuner    [0, 0]      5.0\n",
            "162636  Korg Pitchblack Chromatic Tuner    [0, 0]      5.0\n",
            "162663  Korg Pitchblack Chromatic Tuner    [0, 0]      5.0\n",
            "162690  Korg Pitchblack Chromatic Tuner    [0, 0]      5.0\n",
            "162717  Korg Pitchblack Chromatic Tuner    [0, 0]      5.0\n",
            "162744  Korg Pitchblack Chromatic Tuner    [0, 0]      5.0\n",
            "162771  Korg Pitchblack Chromatic Tuner    [0, 0]      5.0\n",
            "162798  Korg Pitchblack Chromatic Tuner    [0, 0]      5.0\n",
            "162825  Korg Pitchblack Chromatic Tuner    [0, 0]      5.0\n",
            "162852  Korg Pitchblack Chromatic Tuner    [0, 0]      5.0\n",
            "162879  Korg Pitchblack Chromatic Tuner    [0, 0]      5.0\n",
            "162906  Korg Pitchblack Chromatic Tuner    [0, 0]      5.0\n",
            "162933  Korg Pitchblack Chromatic Tuner    [0, 0]      5.0\n",
            "B0002E2XCW\n",
            "                                                   title helpful  overall\n",
            "57377  Fender 351 Premium Celluloid Guitar Picks, 12 ...  [0, 0]      5.0\n",
            "57422  Fender 351 Premium Celluloid Guitar Picks, 12 ...  [0, 0]      5.0\n",
            "57467  Fender 351 Premium Celluloid Guitar Picks, 12 ...  [0, 0]      5.0\n",
            "57512  Fender 351 Premium Celluloid Guitar Picks, 12 ...  [0, 0]      5.0\n",
            "57557  Fender 351 Premium Celluloid Guitar Picks, 12 ...  [0, 0]      5.0\n",
            "57602  Fender 351 Premium Celluloid Guitar Picks, 12 ...  [0, 0]      5.0\n",
            "57647  Fender 351 Premium Celluloid Guitar Picks, 12 ...  [0, 0]      5.0\n",
            "57692  Fender 351 Premium Celluloid Guitar Picks, 12 ...  [0, 0]      5.0\n",
            "57737  Fender 351 Premium Celluloid Guitar Picks, 12 ...  [0, 0]      5.0\n",
            "57782  Fender 351 Premium Celluloid Guitar Picks, 12 ...  [1, 1]      5.0\n",
            "57827  Fender 351 Premium Celluloid Guitar Picks, 12 ...  [0, 0]      5.0\n",
            "57872  Fender 351 Premium Celluloid Guitar Picks, 12 ...  [0, 0]      5.0\n",
            "57917  Fender 351 Premium Celluloid Guitar Picks, 12 ...  [1, 1]      4.0\n",
            "57962  Fender 351 Premium Celluloid Guitar Picks, 12 ...  [0, 0]      5.0\n",
            "58007  Fender 351 Premium Celluloid Guitar Picks, 12 ...  [0, 0]      5.0\n",
            "58052  Fender 351 Premium Celluloid Guitar Picks, 12 ...  [0, 0]      5.0\n",
            "58097  Fender 351 Premium Celluloid Guitar Picks, 12 ...  [0, 0]      5.0\n",
            "58142  Fender 351 Premium Celluloid Guitar Picks, 12 ...  [0, 0]      5.0\n",
            "58187  Fender 351 Premium Celluloid Guitar Picks, 12 ...  [0, 0]      5.0\n",
            "58232  Fender 351 Premium Celluloid Guitar Picks, 12 ...  [0, 0]      5.0\n",
            "58277  Fender 351 Premium Celluloid Guitar Picks, 12 ...  [4, 5]      5.0\n",
            "58322  Fender 351 Premium Celluloid Guitar Picks, 12 ...  [0, 0]      4.0\n",
            "58367  Fender 351 Premium Celluloid Guitar Picks, 12 ...  [1, 1]      5.0\n",
            "58412  Fender 351 Premium Celluloid Guitar Picks, 12 ...  [0, 0]      5.0\n",
            "58457  Fender 351 Premium Celluloid Guitar Picks, 12 ...  [0, 0]      5.0\n",
            "58502  Fender 351 Premium Celluloid Guitar Picks, 12 ...  [0, 0]      5.0\n",
            "58547  Fender 351 Premium Celluloid Guitar Picks, 12 ...  [0, 0]      5.0\n",
            "58592  Fender 351 Premium Celluloid Guitar Picks, 12 ...  [0, 0]      5.0\n",
            "58637  Fender 351 Premium Celluloid Guitar Picks, 12 ...  [0, 1]      4.0\n",
            "58682  Fender 351 Premium Celluloid Guitar Picks, 12 ...  [0, 0]      5.0\n",
            "58727  Fender 351 Premium Celluloid Guitar Picks, 12 ...  [5, 5]      5.0\n",
            "58772  Fender 351 Premium Celluloid Guitar Picks, 12 ...  [0, 0]      5.0\n",
            "58817  Fender 351 Premium Celluloid Guitar Picks, 12 ...  [0, 0]      5.0\n",
            "58862  Fender 351 Premium Celluloid Guitar Picks, 12 ...  [0, 0]      5.0\n",
            "58907  Fender 351 Premium Celluloid Guitar Picks, 12 ...  [0, 0]      5.0\n",
            "58952  Fender 351 Premium Celluloid Guitar Picks, 12 ...  [0, 0]      5.0\n",
            "58997  Fender 351 Premium Celluloid Guitar Picks, 12 ...  [0, 0]      5.0\n",
            "59042  Fender 351 Premium Celluloid Guitar Picks, 12 ...  [0, 0]      4.0\n",
            "59087  Fender 351 Premium Celluloid Guitar Picks, 12 ...  [0, 0]      5.0\n",
            "59132  Fender 351 Premium Celluloid Guitar Picks, 12 ...  [0, 0]      5.0\n",
            "59177  Fender 351 Premium Celluloid Guitar Picks, 12 ...  [0, 0]      5.0\n",
            "59222  Fender 351 Premium Celluloid Guitar Picks, 12 ...  [0, 0]      5.0\n",
            "59267  Fender 351 Premium Celluloid Guitar Picks, 12 ...  [0, 0]      3.0\n",
            "59312  Fender 351 Premium Celluloid Guitar Picks, 12 ...  [0, 0]      5.0\n",
            "59357  Fender 351 Premium Celluloid Guitar Picks, 12 ...  [0, 0]      5.0\n",
            "B001W99HE8\n",
            "                                                    title helpful  overall\n",
            "180258  GLS Audio Instrument Microphone ES-57 &amp; Mi...  [3, 4]      5.0\n",
            "180278  GLS Audio Instrument Microphone ES-57 &amp; Mi...  [0, 0]      5.0\n",
            "180298  GLS Audio Instrument Microphone ES-57 &amp; Mi...  [0, 0]      5.0\n",
            "180318  GLS Audio Instrument Microphone ES-57 &amp; Mi...  [0, 0]      5.0\n",
            "180338  GLS Audio Instrument Microphone ES-57 &amp; Mi...  [0, 0]      5.0\n",
            "180358  GLS Audio Instrument Microphone ES-57 &amp; Mi...  [0, 0]      5.0\n",
            "180378  GLS Audio Instrument Microphone ES-57 &amp; Mi...  [0, 0]      5.0\n",
            "180398  GLS Audio Instrument Microphone ES-57 &amp; Mi...  [0, 0]      5.0\n",
            "180418  GLS Audio Instrument Microphone ES-57 &amp; Mi...  [0, 0]      5.0\n",
            "180438  GLS Audio Instrument Microphone ES-57 &amp; Mi...  [0, 0]      5.0\n",
            "180458  GLS Audio Instrument Microphone ES-57 &amp; Mi...  [0, 0]      5.0\n",
            "180478  GLS Audio Instrument Microphone ES-57 &amp; Mi...  [0, 0]      5.0\n",
            "180498  GLS Audio Instrument Microphone ES-57 &amp; Mi...  [0, 0]      5.0\n",
            "180518  GLS Audio Instrument Microphone ES-57 &amp; Mi...  [0, 0]      5.0\n",
            "180538  GLS Audio Instrument Microphone ES-57 &amp; Mi...  [5, 6]      5.0\n",
            "180558  GLS Audio Instrument Microphone ES-57 &amp; Mi...  [0, 0]      5.0\n",
            "180578  GLS Audio Instrument Microphone ES-57 &amp; Mi...  [0, 0]      5.0\n",
            "180598  GLS Audio Instrument Microphone ES-57 &amp; Mi...  [0, 0]      5.0\n",
            "180618  GLS Audio Instrument Microphone ES-57 &amp; Mi...  [0, 0]      5.0\n",
            "180638  GLS Audio Instrument Microphone ES-57 &amp; Mi...  [0, 0]      5.0\n",
            "B0002D0CEO\n",
            "                                                   title helpful  overall\n",
            "18167  Tortex Guitar Pick, .50 Red, Pack of 12 (418P.50)  [0, 0]      5.0\n",
            "18222  Tortex Guitar Pick, .50 Red, Pack of 12 (418P.50)  [0, 0]      5.0\n",
            "18277  Tortex Guitar Pick, .50 Red, Pack of 12 (418P.50)  [0, 0]      5.0\n",
            "18332  Tortex Guitar Pick, .50 Red, Pack of 12 (418P.50)  [0, 0]      5.0\n",
            "18387  Tortex Guitar Pick, .50 Red, Pack of 12 (418P.50)  [0, 0]      4.0\n",
            "18442  Tortex Guitar Pick, .50 Red, Pack of 12 (418P.50)  [0, 0]      4.0\n",
            "18497  Tortex Guitar Pick, .50 Red, Pack of 12 (418P.50)  [0, 1]      5.0\n",
            "18552  Tortex Guitar Pick, .50 Red, Pack of 12 (418P.50)  [0, 0]      5.0\n",
            "18607  Tortex Guitar Pick, .50 Red, Pack of 12 (418P.50)  [0, 0]      5.0\n",
            "18662  Tortex Guitar Pick, .50 Red, Pack of 12 (418P.50)  [0, 0]      5.0\n",
            "18717  Tortex Guitar Pick, .50 Red, Pack of 12 (418P.50)  [0, 0]      5.0\n",
            "18772  Tortex Guitar Pick, .50 Red, Pack of 12 (418P.50)  [0, 0]      5.0\n",
            "18827  Tortex Guitar Pick, .50 Red, Pack of 12 (418P.50)  [0, 0]      5.0\n",
            "18882  Tortex Guitar Pick, .50 Red, Pack of 12 (418P.50)  [0, 0]      5.0\n",
            "18937  Tortex Guitar Pick, .50 Red, Pack of 12 (418P.50)  [0, 0]      5.0\n",
            "18992  Tortex Guitar Pick, .50 Red, Pack of 12 (418P.50)  [1, 1]      5.0\n",
            "19047  Tortex Guitar Pick, .50 Red, Pack of 12 (418P.50)  [0, 0]      5.0\n",
            "19102  Tortex Guitar Pick, .50 Red, Pack of 12 (418P.50)  [0, 0]      5.0\n",
            "19157  Tortex Guitar Pick, .50 Red, Pack of 12 (418P.50)  [1, 1]      5.0\n",
            "19212  Tortex Guitar Pick, .50 Red, Pack of 12 (418P.50)  [1, 1]      5.0\n",
            "19267  Tortex Guitar Pick, .50 Red, Pack of 12 (418P.50)  [0, 0]      5.0\n",
            "19322  Tortex Guitar Pick, .50 Red, Pack of 12 (418P.50)  [0, 0]      2.0\n",
            "19377  Tortex Guitar Pick, .50 Red, Pack of 12 (418P.50)  [0, 0]      5.0\n",
            "19432  Tortex Guitar Pick, .50 Red, Pack of 12 (418P.50)  [0, 0]      5.0\n",
            "19487  Tortex Guitar Pick, .50 Red, Pack of 12 (418P.50)  [1, 1]      5.0\n",
            "19542  Tortex Guitar Pick, .50 Red, Pack of 12 (418P.50)  [0, 0]      5.0\n",
            "19597  Tortex Guitar Pick, .50 Red, Pack of 12 (418P.50)  [0, 0]      5.0\n",
            "19652  Tortex Guitar Pick, .50 Red, Pack of 12 (418P.50)  [0, 0]      4.0\n",
            "19707  Tortex Guitar Pick, .50 Red, Pack of 12 (418P.50)  [0, 0]      5.0\n",
            "19762  Tortex Guitar Pick, .50 Red, Pack of 12 (418P.50)  [0, 0]      5.0\n",
            "19817  Tortex Guitar Pick, .50 Red, Pack of 12 (418P.50)  [0, 0]      5.0\n",
            "19872  Tortex Guitar Pick, .50 Red, Pack of 12 (418P.50)  [0, 0]      5.0\n",
            "19927  Tortex Guitar Pick, .50 Red, Pack of 12 (418P.50)  [0, 0]      5.0\n",
            "19982  Tortex Guitar Pick, .50 Red, Pack of 12 (418P.50)  [0, 0]      5.0\n",
            "20037  Tortex Guitar Pick, .50 Red, Pack of 12 (418P.50)  [0, 0]      5.0\n",
            "20092  Tortex Guitar Pick, .50 Red, Pack of 12 (418P.50)  [0, 0]      5.0\n",
            "20147  Tortex Guitar Pick, .50 Red, Pack of 12 (418P.50)  [0, 0]      5.0\n",
            "20202  Tortex Guitar Pick, .50 Red, Pack of 12 (418P.50)  [0, 0]      5.0\n",
            "20257  Tortex Guitar Pick, .50 Red, Pack of 12 (418P.50)  [0, 0]      5.0\n",
            "20312  Tortex Guitar Pick, .50 Red, Pack of 12 (418P.50)  [0, 0]      5.0\n",
            "20367  Tortex Guitar Pick, .50 Red, Pack of 12 (418P.50)  [0, 0]      5.0\n",
            "20422  Tortex Guitar Pick, .50 Red, Pack of 12 (418P.50)  [0, 0]      5.0\n",
            "20477  Tortex Guitar Pick, .50 Red, Pack of 12 (418P.50)  [0, 0]      5.0\n",
            "20532  Tortex Guitar Pick, .50 Red, Pack of 12 (418P.50)  [0, 0]      5.0\n",
            "20587  Tortex Guitar Pick, .50 Red, Pack of 12 (418P.50)  [1, 1]      5.0\n",
            "20642  Tortex Guitar Pick, .50 Red, Pack of 12 (418P.50)  [0, 0]      5.0\n",
            "20697  Tortex Guitar Pick, .50 Red, Pack of 12 (418P.50)  [0, 0]      4.0\n",
            "20752  Tortex Guitar Pick, .50 Red, Pack of 12 (418P.50)  [0, 0]      5.0\n",
            "20807  Tortex Guitar Pick, .50 Red, Pack of 12 (418P.50)  [0, 0]      5.0\n",
            "20862  Tortex Guitar Pick, .50 Red, Pack of 12 (418P.50)  [0, 0]      5.0\n",
            "20917  Tortex Guitar Pick, .50 Red, Pack of 12 (418P.50)  [0, 0]      5.0\n",
            "20972  Tortex Guitar Pick, .50 Red, Pack of 12 (418P.50)  [0, 0]      5.0\n",
            "21027  Tortex Guitar Pick, .50 Red, Pack of 12 (418P.50)  [0, 0]      4.0\n",
            "21082  Tortex Guitar Pick, .50 Red, Pack of 12 (418P.50)  [0, 0]      4.0\n",
            "21137  Tortex Guitar Pick, .50 Red, Pack of 12 (418P.50)  [0, 0]      4.0\n",
            "B000L6GD04\n",
            "                               title helpful  overall\n",
            "145454  Fender Locking Tuners Chrome  [0, 2]      5.0\n",
            "145491  Fender Locking Tuners Chrome  [0, 0]      5.0\n",
            "145528  Fender Locking Tuners Chrome  [0, 1]      5.0\n",
            "145565  Fender Locking Tuners Chrome  [0, 0]      5.0\n",
            "145602  Fender Locking Tuners Chrome  [0, 0]      5.0\n",
            "145639  Fender Locking Tuners Chrome  [1, 1]      5.0\n",
            "145676  Fender Locking Tuners Chrome  [0, 0]      5.0\n",
            "145713  Fender Locking Tuners Chrome  [0, 0]      5.0\n",
            "145750  Fender Locking Tuners Chrome  [0, 0]      4.0\n",
            "145787  Fender Locking Tuners Chrome  [0, 0]      5.0\n",
            "145824  Fender Locking Tuners Chrome  [0, 0]      5.0\n",
            "145861  Fender Locking Tuners Chrome  [1, 1]      5.0\n",
            "145898  Fender Locking Tuners Chrome  [1, 1]      5.0\n",
            "145935  Fender Locking Tuners Chrome  [0, 0]      5.0\n",
            "145972  Fender Locking Tuners Chrome  [0, 0]      5.0\n",
            "146009  Fender Locking Tuners Chrome  [2, 2]      5.0\n",
            "146046  Fender Locking Tuners Chrome  [0, 0]      5.0\n",
            "146083  Fender Locking Tuners Chrome  [0, 0]      5.0\n",
            "146120  Fender Locking Tuners Chrome  [2, 2]      5.0\n",
            "146157  Fender Locking Tuners Chrome  [1, 1]      5.0\n",
            "146194  Fender Locking Tuners Chrome  [0, 0]      5.0\n",
            "146231  Fender Locking Tuners Chrome  [0, 0]      5.0\n",
            "146268  Fender Locking Tuners Chrome  [0, 0]      5.0\n",
            "146305  Fender Locking Tuners Chrome  [0, 0]      5.0\n",
            "146342  Fender Locking Tuners Chrome  [0, 0]      5.0\n",
            "146379  Fender Locking Tuners Chrome  [4, 4]      3.0\n",
            "146416  Fender Locking Tuners Chrome  [0, 0]      5.0\n",
            "146453  Fender Locking Tuners Chrome  [0, 0]      5.0\n",
            "146490  Fender Locking Tuners Chrome  [0, 0]      4.0\n",
            "146527  Fender Locking Tuners Chrome  [0, 0]      4.0\n",
            "146564  Fender Locking Tuners Chrome  [0, 0]      5.0\n",
            "146601  Fender Locking Tuners Chrome  [7, 7]      5.0\n",
            "146638  Fender Locking Tuners Chrome  [0, 0]      5.0\n",
            "146675  Fender Locking Tuners Chrome  [0, 0]      5.0\n",
            "146712  Fender Locking Tuners Chrome  [0, 0]      5.0\n",
            "146749  Fender Locking Tuners Chrome  [0, 0]      5.0\n",
            "146786  Fender Locking Tuners Chrome  [0, 0]      5.0\n",
            "B0042EZH6W\n",
            "                                                    title     helpful  overall\n",
            "234577  Fender Mustang I 20-Watt 1x8-Inch Guitar Combo...      [2, 2]      5.0\n",
            "234604  Fender Mustang I 20-Watt 1x8-Inch Guitar Combo...      [3, 3]      5.0\n",
            "234631  Fender Mustang I 20-Watt 1x8-Inch Guitar Combo...      [1, 1]      5.0\n",
            "234658  Fender Mustang I 20-Watt 1x8-Inch Guitar Combo...      [1, 1]      5.0\n",
            "234685  Fender Mustang I 20-Watt 1x8-Inch Guitar Combo...      [0, 0]      5.0\n",
            "234712  Fender Mustang I 20-Watt 1x8-Inch Guitar Combo...      [0, 0]      5.0\n",
            "234739  Fender Mustang I 20-Watt 1x8-Inch Guitar Combo...      [0, 0]      5.0\n",
            "234766  Fender Mustang I 20-Watt 1x8-Inch Guitar Combo...      [1, 1]      5.0\n",
            "234793  Fender Mustang I 20-Watt 1x8-Inch Guitar Combo...      [0, 0]      5.0\n",
            "234820  Fender Mustang I 20-Watt 1x8-Inch Guitar Combo...      [0, 0]      5.0\n",
            "234847  Fender Mustang I 20-Watt 1x8-Inch Guitar Combo...      [3, 3]      5.0\n",
            "234874  Fender Mustang I 20-Watt 1x8-Inch Guitar Combo...      [0, 0]      4.0\n",
            "234901  Fender Mustang I 20-Watt 1x8-Inch Guitar Combo...  [190, 192]      5.0\n",
            "234928  Fender Mustang I 20-Watt 1x8-Inch Guitar Combo...      [1, 1]      5.0\n",
            "234955  Fender Mustang I 20-Watt 1x8-Inch Guitar Combo...      [0, 0]      5.0\n",
            "234982  Fender Mustang I 20-Watt 1x8-Inch Guitar Combo...    [14, 15]      5.0\n",
            "235009  Fender Mustang I 20-Watt 1x8-Inch Guitar Combo...    [11, 13]      5.0\n",
            "235036  Fender Mustang I 20-Watt 1x8-Inch Guitar Combo...      [1, 2]      4.0\n",
            "235063  Fender Mustang I 20-Watt 1x8-Inch Guitar Combo...      [0, 0]      5.0\n",
            "235090  Fender Mustang I 20-Watt 1x8-Inch Guitar Combo...      [2, 2]      5.0\n",
            "235117  Fender Mustang I 20-Watt 1x8-Inch Guitar Combo...      [0, 0]      5.0\n",
            "235144  Fender Mustang I 20-Watt 1x8-Inch Guitar Combo...      [0, 0]      5.0\n",
            "235171  Fender Mustang I 20-Watt 1x8-Inch Guitar Combo...      [2, 2]      5.0\n",
            "235198  Fender Mustang I 20-Watt 1x8-Inch Guitar Combo...      [0, 1]      5.0\n",
            "235225  Fender Mustang I 20-Watt 1x8-Inch Guitar Combo...      [2, 2]      4.0\n",
            "235252  Fender Mustang I 20-Watt 1x8-Inch Guitar Combo...      [0, 0]      5.0\n",
            "235279  Fender Mustang I 20-Watt 1x8-Inch Guitar Combo...      [1, 1]      5.0\n",
            "B0002GLCRC\n",
            "                                                   title helpful  overall\n",
            "78762  String Swing CC01K Hardwood Home &amp; Studio ...  [0, 0]      4.0\n",
            "78799  String Swing CC01K Hardwood Home &amp; Studio ...  [0, 0]      3.0\n",
            "78836  String Swing CC01K Hardwood Home &amp; Studio ...  [0, 0]      5.0\n",
            "78873  String Swing CC01K Hardwood Home &amp; Studio ...  [0, 0]      5.0\n",
            "78910  String Swing CC01K Hardwood Home &amp; Studio ...  [0, 0]      5.0\n",
            "78947  String Swing CC01K Hardwood Home &amp; Studio ...  [0, 0]      5.0\n",
            "78984  String Swing CC01K Hardwood Home &amp; Studio ...  [0, 0]      5.0\n",
            "79021  String Swing CC01K Hardwood Home &amp; Studio ...  [0, 0]      5.0\n",
            "79058  String Swing CC01K Hardwood Home &amp; Studio ...  [0, 0]      5.0\n",
            "79095  String Swing CC01K Hardwood Home &amp; Studio ...  [0, 0]      5.0\n",
            "79132  String Swing CC01K Hardwood Home &amp; Studio ...  [0, 0]      5.0\n",
            "79169  String Swing CC01K Hardwood Home &amp; Studio ...  [3, 4]      4.0\n",
            "79206  String Swing CC01K Hardwood Home &amp; Studio ...  [0, 0]      5.0\n",
            "79243  String Swing CC01K Hardwood Home &amp; Studio ...  [0, 0]      5.0\n",
            "79280  String Swing CC01K Hardwood Home &amp; Studio ...  [0, 0]      5.0\n",
            "79317  String Swing CC01K Hardwood Home &amp; Studio ...  [0, 0]      5.0\n",
            "79354  String Swing CC01K Hardwood Home &amp; Studio ...  [0, 0]      5.0\n",
            "79391  String Swing CC01K Hardwood Home &amp; Studio ...  [0, 0]      3.0\n",
            "79428  String Swing CC01K Hardwood Home &amp; Studio ...  [1, 1]      5.0\n",
            "79465  String Swing CC01K Hardwood Home &amp; Studio ...  [0, 0]      5.0\n",
            "79502  String Swing CC01K Hardwood Home &amp; Studio ...  [0, 0]      4.0\n",
            "79539  String Swing CC01K Hardwood Home &amp; Studio ...  [0, 0]      5.0\n",
            "79576  String Swing CC01K Hardwood Home &amp; Studio ...  [1, 1]      5.0\n",
            "79613  String Swing CC01K Hardwood Home &amp; Studio ...  [0, 0]      5.0\n",
            "79650  String Swing CC01K Hardwood Home &amp; Studio ...  [0, 0]      5.0\n",
            "79687  String Swing CC01K Hardwood Home &amp; Studio ...  [0, 0]      5.0\n",
            "79724  String Swing CC01K Hardwood Home &amp; Studio ...  [0, 0]      5.0\n",
            "79761  String Swing CC01K Hardwood Home &amp; Studio ...  [2, 2]      5.0\n",
            "79798  String Swing CC01K Hardwood Home &amp; Studio ...  [0, 0]      5.0\n",
            "79835  String Swing CC01K Hardwood Home &amp; Studio ...  [0, 0]      5.0\n",
            "79872  String Swing CC01K Hardwood Home &amp; Studio ...  [0, 0]      5.0\n",
            "79909  String Swing CC01K Hardwood Home &amp; Studio ...  [0, 0]      5.0\n",
            "79946  String Swing CC01K Hardwood Home &amp; Studio ...  [0, 0]      5.0\n",
            "79983  String Swing CC01K Hardwood Home &amp; Studio ...  [0, 0]      5.0\n",
            "80020  String Swing CC01K Hardwood Home &amp; Studio ...  [0, 0]      5.0\n",
            "80057  String Swing CC01K Hardwood Home &amp; Studio ...  [0, 0]      5.0\n",
            "80094  String Swing CC01K Hardwood Home &amp; Studio ...  [0, 0]      5.0\n",
            "B0002M6CVC\n",
            "                                                    title   helpful  overall\n",
            "111081  Ernie Ball 2221 Regular Slinky Nickel Wound Se...    [0, 0]      5.0\n",
            "111127  Ernie Ball 2221 Regular Slinky Nickel Wound Se...    [0, 0]      5.0\n",
            "111173  Ernie Ball 2221 Regular Slinky Nickel Wound Se...    [0, 0]      4.0\n",
            "111219  Ernie Ball 2221 Regular Slinky Nickel Wound Se...    [0, 2]      4.0\n",
            "111265  Ernie Ball 2221 Regular Slinky Nickel Wound Se...    [0, 1]      5.0\n",
            "111311  Ernie Ball 2221 Regular Slinky Nickel Wound Se...    [0, 0]      5.0\n",
            "111357  Ernie Ball 2221 Regular Slinky Nickel Wound Se...    [3, 5]      5.0\n",
            "111403  Ernie Ball 2221 Regular Slinky Nickel Wound Se...    [0, 0]      5.0\n",
            "111449  Ernie Ball 2221 Regular Slinky Nickel Wound Se...    [0, 0]      5.0\n",
            "111495  Ernie Ball 2221 Regular Slinky Nickel Wound Se...    [0, 0]      5.0\n",
            "111541  Ernie Ball 2221 Regular Slinky Nickel Wound Se...    [0, 0]      5.0\n",
            "111587  Ernie Ball 2221 Regular Slinky Nickel Wound Se...    [2, 4]      5.0\n",
            "111633  Ernie Ball 2221 Regular Slinky Nickel Wound Se...    [0, 0]      5.0\n",
            "111679  Ernie Ball 2221 Regular Slinky Nickel Wound Se...    [0, 0]      5.0\n",
            "111725  Ernie Ball 2221 Regular Slinky Nickel Wound Se...    [0, 0]      5.0\n",
            "111771  Ernie Ball 2221 Regular Slinky Nickel Wound Se...    [0, 0]      5.0\n",
            "111817  Ernie Ball 2221 Regular Slinky Nickel Wound Se...    [1, 1]      4.0\n",
            "111863  Ernie Ball 2221 Regular Slinky Nickel Wound Se...    [0, 0]      5.0\n",
            "111909  Ernie Ball 2221 Regular Slinky Nickel Wound Se...    [2, 4]      5.0\n",
            "111955  Ernie Ball 2221 Regular Slinky Nickel Wound Se...    [0, 0]      4.0\n",
            "112001  Ernie Ball 2221 Regular Slinky Nickel Wound Se...    [1, 3]      1.0\n",
            "112047  Ernie Ball 2221 Regular Slinky Nickel Wound Se...    [4, 8]      5.0\n",
            "112093  Ernie Ball 2221 Regular Slinky Nickel Wound Se...    [0, 0]      5.0\n",
            "112139  Ernie Ball 2221 Regular Slinky Nickel Wound Se...    [0, 0]      5.0\n",
            "112185  Ernie Ball 2221 Regular Slinky Nickel Wound Se...    [0, 0]      5.0\n",
            "112231  Ernie Ball 2221 Regular Slinky Nickel Wound Se...  [25, 31]      5.0\n",
            "112277  Ernie Ball 2221 Regular Slinky Nickel Wound Se...    [0, 0]      5.0\n",
            "112323  Ernie Ball 2221 Regular Slinky Nickel Wound Se...    [0, 0]      5.0\n",
            "112369  Ernie Ball 2221 Regular Slinky Nickel Wound Se...    [0, 0]      5.0\n",
            "112415  Ernie Ball 2221 Regular Slinky Nickel Wound Se...    [0, 0]      5.0\n",
            "112461  Ernie Ball 2221 Regular Slinky Nickel Wound Se...    [0, 0]      5.0\n",
            "112507  Ernie Ball 2221 Regular Slinky Nickel Wound Se...    [0, 0]      5.0\n",
            "112553  Ernie Ball 2221 Regular Slinky Nickel Wound Se...    [0, 0]      5.0\n",
            "112599  Ernie Ball 2221 Regular Slinky Nickel Wound Se...    [0, 0]      4.0\n",
            "112645  Ernie Ball 2221 Regular Slinky Nickel Wound Se...    [0, 1]      5.0\n",
            "112691  Ernie Ball 2221 Regular Slinky Nickel Wound Se...    [0, 0]      5.0\n",
            "112737  Ernie Ball 2221 Regular Slinky Nickel Wound Se...    [0, 0]      5.0\n",
            "112783  Ernie Ball 2221 Regular Slinky Nickel Wound Se...    [0, 0]      5.0\n",
            "112829  Ernie Ball 2221 Regular Slinky Nickel Wound Se...    [0, 1]      5.0\n",
            "112875  Ernie Ball 2221 Regular Slinky Nickel Wound Se...    [0, 0]      5.0\n",
            "112921  Ernie Ball 2221 Regular Slinky Nickel Wound Se...    [0, 0]      5.0\n",
            "112967  Ernie Ball 2221 Regular Slinky Nickel Wound Se...    [0, 0]      5.0\n",
            "113013  Ernie Ball 2221 Regular Slinky Nickel Wound Se...    [3, 5]      5.0\n",
            "113059  Ernie Ball 2221 Regular Slinky Nickel Wound Se...    [0, 0]      5.0\n",
            "113105  Ernie Ball 2221 Regular Slinky Nickel Wound Se...    [0, 0]      5.0\n",
            "113151  Ernie Ball 2221 Regular Slinky Nickel Wound Se...    [0, 0]      4.0\n",
            "B0016ZZKJO\n",
            "                                    title helpful  overall\n",
            "163325  MXR M169 Carbon Copy Analog Delay  [0, 0]      5.0\n",
            "163350  MXR M169 Carbon Copy Analog Delay  [0, 0]      5.0\n",
            "163375  MXR M169 Carbon Copy Analog Delay  [1, 1]      5.0\n",
            "163400  MXR M169 Carbon Copy Analog Delay  [6, 7]      5.0\n",
            "163425  MXR M169 Carbon Copy Analog Delay  [1, 2]      5.0\n",
            "163450  MXR M169 Carbon Copy Analog Delay  [4, 4]      5.0\n",
            "163475  MXR M169 Carbon Copy Analog Delay  [1, 1]      5.0\n",
            "163500  MXR M169 Carbon Copy Analog Delay  [2, 3]      5.0\n",
            "163525  MXR M169 Carbon Copy Analog Delay  [1, 1]      5.0\n",
            "163550  MXR M169 Carbon Copy Analog Delay  [1, 1]      5.0\n",
            "163575  MXR M169 Carbon Copy Analog Delay  [2, 3]      5.0\n",
            "163600  MXR M169 Carbon Copy Analog Delay  [1, 1]      5.0\n",
            "163625  MXR M169 Carbon Copy Analog Delay  [0, 0]      5.0\n",
            "163650  MXR M169 Carbon Copy Analog Delay  [1, 2]      5.0\n",
            "163675  MXR M169 Carbon Copy Analog Delay  [1, 1]      5.0\n",
            "163700  MXR M169 Carbon Copy Analog Delay  [0, 0]      5.0\n",
            "163725  MXR M169 Carbon Copy Analog Delay  [0, 3]      3.0\n",
            "163750  MXR M169 Carbon Copy Analog Delay  [0, 0]      5.0\n",
            "163775  MXR M169 Carbon Copy Analog Delay  [1, 2]      3.0\n",
            "163800  MXR M169 Carbon Copy Analog Delay  [0, 0]      5.0\n",
            "163825  MXR M169 Carbon Copy Analog Delay  [0, 0]      5.0\n",
            "163850  MXR M169 Carbon Copy Analog Delay  [0, 0]      5.0\n",
            "163875  MXR M169 Carbon Copy Analog Delay  [0, 0]      5.0\n",
            "163900  MXR M169 Carbon Copy Analog Delay  [0, 0]      5.0\n",
            "163925  MXR M169 Carbon Copy Analog Delay  [1, 1]      5.0\n",
            "B000EELB8W\n",
            "                                                    title   helpful  overall\n",
            "140812  Dunlop Formula 65 Guitar Polish &amp; Cleaner,...    [0, 0]      4.0\n",
            "140845  Dunlop Formula 65 Guitar Polish &amp; Cleaner,...    [1, 1]      5.0\n",
            "140878  Dunlop Formula 65 Guitar Polish &amp; Cleaner,...  [36, 37]      5.0\n",
            "140911  Dunlop Formula 65 Guitar Polish &amp; Cleaner,...    [3, 3]      5.0\n",
            "140944  Dunlop Formula 65 Guitar Polish &amp; Cleaner,...    [0, 0]      5.0\n",
            "140977  Dunlop Formula 65 Guitar Polish &amp; Cleaner,...    [0, 0]      4.0\n",
            "141010  Dunlop Formula 65 Guitar Polish &amp; Cleaner,...    [0, 0]      5.0\n",
            "141043  Dunlop Formula 65 Guitar Polish &amp; Cleaner,...    [0, 0]      5.0\n",
            "141076  Dunlop Formula 65 Guitar Polish &amp; Cleaner,...    [0, 0]      5.0\n",
            "141109  Dunlop Formula 65 Guitar Polish &amp; Cleaner,...    [0, 0]      5.0\n",
            "141142  Dunlop Formula 65 Guitar Polish &amp; Cleaner,...    [0, 0]      5.0\n",
            "141175  Dunlop Formula 65 Guitar Polish &amp; Cleaner,...    [1, 1]      4.0\n",
            "141208  Dunlop Formula 65 Guitar Polish &amp; Cleaner,...    [0, 0]      5.0\n",
            "141241  Dunlop Formula 65 Guitar Polish &amp; Cleaner,...    [0, 0]      5.0\n",
            "141274  Dunlop Formula 65 Guitar Polish &amp; Cleaner,...    [1, 1]      4.0\n",
            "141307  Dunlop Formula 65 Guitar Polish &amp; Cleaner,...    [2, 2]      4.0\n",
            "141340  Dunlop Formula 65 Guitar Polish &amp; Cleaner,...    [0, 0]      5.0\n",
            "141373  Dunlop Formula 65 Guitar Polish &amp; Cleaner,...    [6, 6]      5.0\n",
            "141406  Dunlop Formula 65 Guitar Polish &amp; Cleaner,...    [4, 4]      5.0\n",
            "141439  Dunlop Formula 65 Guitar Polish &amp; Cleaner,...    [0, 0]      5.0\n",
            "141472  Dunlop Formula 65 Guitar Polish &amp; Cleaner,...    [0, 0]      5.0\n",
            "141505  Dunlop Formula 65 Guitar Polish &amp; Cleaner,...    [0, 0]      5.0\n",
            "141538  Dunlop Formula 65 Guitar Polish &amp; Cleaner,...    [0, 0]      5.0\n",
            "141571  Dunlop Formula 65 Guitar Polish &amp; Cleaner,...  [27, 28]      5.0\n",
            "141604  Dunlop Formula 65 Guitar Polish &amp; Cleaner,...    [0, 0]      5.0\n",
            "141637  Dunlop Formula 65 Guitar Polish &amp; Cleaner,...    [0, 0]      4.0\n",
            "141670  Dunlop Formula 65 Guitar Polish &amp; Cleaner,...    [1, 1]      5.0\n",
            "141703  Dunlop Formula 65 Guitar Polish &amp; Cleaner,...   [2, 18]      5.0\n",
            "141736  Dunlop Formula 65 Guitar Polish &amp; Cleaner,...    [1, 1]      5.0\n",
            "141769  Dunlop Formula 65 Guitar Polish &amp; Cleaner,...    [0, 0]      5.0\n",
            "141802  Dunlop Formula 65 Guitar Polish &amp; Cleaner,...    [1, 1]      5.0\n",
            "141835  Dunlop Formula 65 Guitar Polish &amp; Cleaner,...    [0, 0]      4.0\n",
            "141868  Dunlop Formula 65 Guitar Polish &amp; Cleaner,...    [1, 1]      5.0\n"
          ],
          "name": "stdout"
        }
      ]
    },
    {
      "cell_type": "code",
      "metadata": {
        "colab": {
          "base_uri": "https://localhost:8080/",
          "height": 357
        },
        "id": "CKNuaOvEcQ18",
        "outputId": "0c214151-f1a5-4192-b55d-4665479d4df5"
      },
      "source": [
        "most_popular.head(30).plot(kind = \"bar\")"
      ],
      "execution_count": 28,
      "outputs": [
        {
          "output_type": "execute_result",
          "data": {
            "text/plain": [
              "<matplotlib.axes._subplots.AxesSubplot at 0x7f54d4c25210>"
            ]
          },
          "metadata": {
            "tags": []
          },
          "execution_count": 28
        },
        {
          "output_type": "display_data",
          "data": {
            "image/png": "[encoded data removed]",
            "text/plain": [
              "<Figure size 432x288 with 1 Axes>"
            ]
          },
          "metadata": {
            "tags": [],
            "needs_background": "light"
          }
        }
      ]
    }
  ]
}